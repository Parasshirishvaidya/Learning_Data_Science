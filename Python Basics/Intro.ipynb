{
 "cells": [
  {
   "cell_type": "code",
   "execution_count": 1,
   "id": "98c7e9e9-206d-48a5-829f-4aca94037e5e",
   "metadata": {},
   "outputs": [
    {
     "data": {
      "text/plain": [
       "2"
      ]
     },
     "execution_count": 1,
     "metadata": {},
     "output_type": "execute_result"
    }
   ],
   "source": [
    "1+1"
   ]
  },
  {
   "cell_type": "code",
   "execution_count": null,
   "id": "da22c37d-da55-4180-aabb-0e5bcee85339",
   "metadata": {},
   "outputs": [],
   "source": []
  },
  {
   "cell_type": "code",
   "execution_count": 15,
   "id": "62a34198-6a79-49f8-aeb9-92c41c15d684",
   "metadata": {},
   "outputs": [],
   "source": [
    "my_str=\"Paras Vaidya\""
   ]
  },
  {
   "cell_type": "code",
   "execution_count": null,
   "id": "52ca714a-8ea4-4eca-8c17-1c5dc7c0cb9a",
   "metadata": {},
   "outputs": [],
   "source": []
  },
  {
   "cell_type": "code",
   "execution_count": 19,
   "id": "898dd63f-29b6-494c-96ec-a088492c959d",
   "metadata": {},
   "outputs": [
    {
     "name": "stdout",
     "output_type": "stream",
     "text": [
      "Paras Vaidya\n"
     ]
    }
   ],
   "source": [
    "print(my_str)"
   ]
  },
  {
   "cell_type": "code",
   "execution_count": 23,
   "id": "936783c6-69e0-473b-8d93-09916094c9c8",
   "metadata": {},
   "outputs": [],
   "source": [
    "lst_ep=[]"
   ]
  },
  {
   "cell_type": "code",
   "execution_count": 27,
   "id": "bfbae098-1776-4e3c-a119-e415a4dcff4b",
   "metadata": {},
   "outputs": [],
   "source": [
    "lst_ep.append(\"Paras\")"
   ]
  },
  {
   "cell_type": "code",
   "execution_count": 29,
   "id": "acc36226-f734-40e8-a865-0cc6a696b2b4",
   "metadata": {},
   "outputs": [],
   "source": [
    "lst_ep.append(\"Vaidya\")"
   ]
  },
  {
   "cell_type": "code",
   "execution_count": 31,
   "id": "f309e8d5-e4e4-4005-b660-7a6215a27f46",
   "metadata": {},
   "outputs": [
    {
     "name": "stdout",
     "output_type": "stream",
     "text": [
      "['Paras', 'Vaidya']\n"
     ]
    }
   ],
   "source": [
    "print(lst_ep)"
   ]
  },
  {
   "cell_type": "code",
   "execution_count": 35,
   "id": "b4145a15-685a-44ea-b05d-bf95e58b2b5b",
   "metadata": {},
   "outputs": [],
   "source": [
    "lst_ep.append([\"Rashi\",\"Vaidya\"])"
   ]
  },
  {
   "cell_type": "code",
   "execution_count": 37,
   "id": "e9a10578-e1dc-49b3-ae38-840ffc60497a",
   "metadata": {},
   "outputs": [
    {
     "name": "stdout",
     "output_type": "stream",
     "text": [
      "['Paras', 'Vaidya', ['Rashi', 'Vaidya']]\n"
     ]
    }
   ],
   "source": [
    "print(lst_ep)"
   ]
  },
  {
   "cell_type": "code",
   "execution_count": 45,
   "id": "44765126-8939-4af6-909a-0ba0a923b061",
   "metadata": {},
   "outputs": [
    {
     "name": "stdout",
     "output_type": "stream",
     "text": [
      "['Paras', 'Vaidya', ['Rashi', 'Vaidya'], 'Shirish', 'Vaidya', 'Shirish', 'Vaidya', 'Uma', 'Vaidya']\n"
     ]
    }
   ],
   "source": [
    "lst_ep.extend([\"Shirish\", \"Vaidya\"])\n",
    "lst_ep.extend([\"Uma\", \"Vaidya\"])\n",
    "print(lst_ep)"
   ]
  },
  {
   "cell_type": "code",
   "execution_count": 47,
   "id": "cc3e3837-fc11-45f5-86d3-3d69af364b5e",
   "metadata": {},
   "outputs": [
    {
     "data": {
      "text/plain": [
       "'Vaidya'"
      ]
     },
     "execution_count": 47,
     "metadata": {},
     "output_type": "execute_result"
    }
   ],
   "source": [
    "lst_ep.pop()"
   ]
  },
  {
   "cell_type": "code",
   "execution_count": 49,
   "id": "6649cbf5-c471-440d-ad3e-7ef318acaad8",
   "metadata": {},
   "outputs": [
    {
     "name": "stdout",
     "output_type": "stream",
     "text": [
      "['Paras', 'Vaidya', ['Rashi', 'Vaidya'], 'Shirish', 'Vaidya', 'Shirish', 'Vaidya', 'Uma']\n"
     ]
    }
   ],
   "source": [
    "print(lst_ep)"
   ]
  },
  {
   "cell_type": "code",
   "execution_count": 51,
   "id": "a7fc1bff-ba6d-4d47-b779-c58da80eaef3",
   "metadata": {},
   "outputs": [
    {
     "data": {
      "text/plain": [
       "1"
      ]
     },
     "execution_count": 51,
     "metadata": {},
     "output_type": "execute_result"
    }
   ],
   "source": [
    "lst_ep.index(\"Vaidya\")"
   ]
  },
  {
   "cell_type": "code",
   "execution_count": 53,
   "id": "766a4d9c-0fb0-441a-97f8-ce93b3406c5f",
   "metadata": {},
   "outputs": [
    {
     "data": {
      "text/plain": [
       "3"
      ]
     },
     "execution_count": 53,
     "metadata": {},
     "output_type": "execute_result"
    }
   ],
   "source": [
    "lst_ep.count(\"Vaidya\")"
   ]
  },
  {
   "cell_type": "code",
   "execution_count": 55,
   "id": "587ddae9-023b-428c-a7c7-449aea1e482e",
   "metadata": {},
   "outputs": [],
   "source": [
    "lst_ep.remove(\"Paras\")"
   ]
  },
  {
   "cell_type": "code",
   "execution_count": 57,
   "id": "722be942-b8f5-4f33-add4-04d6635e6522",
   "metadata": {},
   "outputs": [
    {
     "data": {
      "text/plain": [
       "['Vaidya',\n",
       " ['Rashi', 'Vaidya'],\n",
       " 'Shirish',\n",
       " 'Vaidya',\n",
       " 'Shirish',\n",
       " 'Vaidya',\n",
       " 'Uma']"
      ]
     },
     "execution_count": 57,
     "metadata": {},
     "output_type": "execute_result"
    }
   ],
   "source": [
    "lst_ep"
   ]
  },
  {
   "cell_type": "code",
   "execution_count": null,
   "id": "b9410f2d-3b56-4a9c-9db8-428526a65d47",
   "metadata": {},
   "outputs": [],
   "source": []
  },
  {
   "cell_type": "code",
   "execution_count": 61,
   "id": "b8c7246d-e471-4922-8da2-40421a2311ee",
   "metadata": {},
   "outputs": [
    {
     "data": {
      "text/plain": [
       "3"
      ]
     },
     "execution_count": 61,
     "metadata": {},
     "output_type": "execute_result"
    }
   ],
   "source": [
    "lst_ep.index(\"Vaidya\",1,7)"
   ]
  },
  {
   "cell_type": "code",
   "execution_count": null,
   "id": "5886ee58-fc2f-4227-9856-5a0504dc5eba",
   "metadata": {},
   "outputs": [],
   "source": []
  },
  {
   "cell_type": "markdown",
   "id": "469a8824-de42-49b3-a199-5ee0731ff985",
   "metadata": {},
   "source": [
    " Sets"
   ]
  },
  {
   "cell_type": "markdown",
   "id": "f8e4432b-05a5-425c-a207-58aa238c2e6d",
   "metadata": {},
   "source": [
    "Set is iterable mutable and has no duplicate element\n",
    "this is based on ds hash table\n"
   ]
  },
  {
   "cell_type": "code",
   "execution_count": 7,
   "id": "c26d8a05-dd50-480d-8f32-a9e95a025acf",
   "metadata": {},
   "outputs": [
    {
     "name": "stdout",
     "output_type": "stream",
     "text": [
      "set()\n",
      "<class 'set'>\n"
     ]
    }
   ],
   "source": [
    "## Defining an Empty set \n",
    "\n",
    "set_var = set()\n",
    "print(set_var)\n",
    "print(type(set_var))"
   ]
  },
  {
   "cell_type": "code",
   "execution_count": 11,
   "id": "a95b7452-3ca2-4dc0-85eb-98e34d1b2598",
   "metadata": {},
   "outputs": [],
   "source": [
    "## indexing is not possible in Sets \n",
    "set_var.add(\"Hulk\")"
   ]
  },
  {
   "cell_type": "code",
   "execution_count": 13,
   "id": "92f0a906-63c3-4f25-8811-fae9c4ea15dc",
   "metadata": {},
   "outputs": [
    {
     "name": "stdout",
     "output_type": "stream",
     "text": [
      "{'Hulk'}\n"
     ]
    }
   ],
   "source": [
    "print(set_var)"
   ]
  },
  {
   "cell_type": "code",
   "execution_count": null,
   "id": "4cc175be-c84d-476e-a79c-2768f10fe982",
   "metadata": {},
   "outputs": [],
   "source": [
    "set_var"
   ]
  },
  {
   "cell_type": "markdown",
   "id": "bc6db44c-816f-4bd7-aa20-05b788308779",
   "metadata": {},
   "source": [
    "Dictionaries"
   ]
  },
  {
   "cell_type": "code",
   "execution_count": null,
   "id": "2d776fd9-70ac-4bc0-baab-efe998586ffd",
   "metadata": {},
   "outputs": [],
   "source": [
    "### cOLLECTION WHICH IS UNORDERED, CHANGEABLE AND INDEXED . WRITTEN WITH CURLY BRACKETS AND HAVE KEY AND VALUE PAIRS"
   ]
  },
  {
   "cell_type": "markdown",
   "id": "abd20506-3072-42f5-95cc-79b06d760d22",
   "metadata": {},
   "source": [
    "Tuple\n"
   ]
  },
  {
   "cell_type": "code",
   "execution_count": null,
   "id": "7cbe5fa5-48f2-4ce6-9d57-848ccdb29bb8",
   "metadata": {},
   "outputs": [],
   "source": [
    "## Non mutable\n"
   ]
  },
  {
   "cell_type": "code",
   "execution_count": 17,
   "id": "f80e7b99-1813-4e50-ac4a-840047fd1b02",
   "metadata": {},
   "outputs": [
    {
     "name": "stdout",
     "output_type": "stream",
     "text": [
      "PARAS\n"
     ]
    }
   ],
   "source": [
    "my_tuple=(\"PARAS\",\"RASHI\")\n",
    "print(my_tuple[0])"
   ]
  },
  {
   "cell_type": "code",
   "execution_count": null,
   "id": "c84bfc16-770a-48c8-b9b4-b89b9954859e",
   "metadata": {},
   "outputs": [],
   "source": []
  }
 ],
 "metadata": {
  "kernelspec": {
   "display_name": "Python 3 (ipykernel)",
   "language": "python",
   "name": "python3"
  },
  "language_info": {
   "codemirror_mode": {
    "name": "ipython",
    "version": 3
   },
   "file_extension": ".py",
   "mimetype": "text/x-python",
   "name": "python",
   "nbconvert_exporter": "python",
   "pygments_lexer": "ipython3",
   "version": "3.12.4"
  }
 },
 "nbformat": 4,
 "nbformat_minor": 5
}
