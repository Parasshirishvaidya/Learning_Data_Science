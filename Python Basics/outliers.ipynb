{
 "cells": [
  {
   "cell_type": "markdown",
   "id": "80ff4d94-fbfc-4bc3-8983-07af28a23e8c",
   "metadata": {},
   "source": [
    "# What is an outlier?\n",
    "An outlier is a data point in a data set that is distant from all other observations. A data point that lies outside the overall distribution of the dataset."
   ]
  },
  {
   "cell_type": "code",
   "execution_count": 8,
   "id": "9856095e-67d8-48a7-8fe5-9cfc03b240c4",
   "metadata": {},
   "outputs": [],
   "source": [
    "import numpy as np\n",
    "import matplotlib.pyplot as plt\n",
    "%matplotlib inline"
   ]
  },
  {
   "cell_type": "markdown",
   "id": "789f310b-2eb1-48ee-bd2d-1b85f0f83417",
   "metadata": {},
   "source": [
    "# What are the criteria to identify an outlier?\n",
    "1. Data point that falls outside of the 1.5 times of an interquartile range above the 3rd quartile and below the 1st quartile\n",
    "2. Data point that falls outside of 3 standart deviations. We can use a z score and if the z score falls outside of the 2 standard deviation"
   ]
  },
  {
   "cell_type": "markdown",
   "id": "ebeea821-8838-426f-ab26-c778d9b491fa",
   "metadata": {},
   "source": [
    "# What are the reasons for an outlier to exists in a dataset\n",
    "1. Variabllity in the data\n",
    "2. An experimental mesaurement error"
   ]
  },
  {
   "cell_type": "markdown",
   "id": "88a8e3b8-36bd-482d-95c8-fd41696bef92",
   "metadata": {},
   "source": [
    "# What are the impacts of having outliers in a dataset?\n",
    "1. It causes various problems during our statisctical analysis\n",
    "2. It may cause a significant impact on the mean and standard deviation"
   ]
  },
  {
   "cell_type": "markdown",
   "id": "1b88977a-8b73-4321-b2ef-0a3100e23096",
   "metadata": {},
   "source": [
    "# Various ways of finding the outliers\n",
    "1. Using scatter plots\n",
    "2. box plots\n",
    "3. using z score\n",
    "4. using the IQR interquartile range"
   ]
  },
  {
   "cell_type": "code",
   "execution_count": 95,
   "id": "5a898dde-7238-4881-9dd9-9b45be99e094",
   "metadata": {},
   "outputs": [],
   "source": [
    "dataset = [11,10,12,14,1212,15,14,13,15,1032,12,14,17,19,107,13,12,14,12,1088,12,11,14,13,15,10,15,12,10,1000]"
   ]
  },
  {
   "cell_type": "markdown",
   "id": "55ed8d98-aa8b-40c8-9055-182c7dc8a4e0",
   "metadata": {},
   "source": [
    "# Detecting ouliers using Z score"
   ]
  },
  {
   "cell_type": "code",
   "execution_count": 97,
   "id": "20857c6e-f4db-45ad-97fc-625790df9f1a",
   "metadata": {},
   "outputs": [],
   "source": [
    "def detect_outliers(data):\n",
    "    outliers = []  # Declare inside the function to reset for each call\n",
    "    threshold = 1\n",
    "    mean = np.mean(data)\n",
    "    std = np.std(data)\n",
    "\n",
    "    for i in data:\n",
    "        z_score = (i - mean) / std\n",
    "        if np.abs(z_score) > threshold: \n",
    "            outliers.append(i)\n",
    "    return outliers\n"
   ]
  },
  {
   "cell_type": "code",
   "execution_count": 99,
   "id": "68a22c0f-34fd-44f5-b64e-23d6fe336dc2",
   "metadata": {},
   "outputs": [],
   "source": [
    "outlier_pt= detect_outliers(dataset)"
   ]
  },
  {
   "cell_type": "code",
   "execution_count": 101,
   "id": "bb7dc5dd-cf90-4f2e-a506-2af0965d3902",
   "metadata": {},
   "outputs": [
    {
     "data": {
      "text/plain": [
       "[1212, 1032, 1088, 1000]"
      ]
     },
     "execution_count": 101,
     "metadata": {},
     "output_type": "execute_result"
    }
   ],
   "source": [
    "outlier_pt"
   ]
  },
  {
   "cell_type": "markdown",
   "id": "9087a823-3ead-4c4a-8157-dda1362f6d62",
   "metadata": {},
   "source": [
    "# InterQuatile Range\n",
    "75%-25% values of the dataset\n",
    "\n",
    "Steps\n",
    "\n",
    "1. Arrange the data in increasing order\n",
    "2. Calculate first(Q1) and Third(Q3)\n",
    "3. First interquartile range(q3-q1)\n",
    "4. Find Lower bound q1-IQR*1.5\n",
    "5. Find upper boound q3+IQR*1.5\n",
    "Anything outside upper and lower bound is a outlier"
   ]
  },
  {
   "cell_type": "code",
   "execution_count": 106,
   "id": "1b969c1d-3a0a-4d43-812c-0202fd395425",
   "metadata": {},
   "outputs": [
    {
     "data": {
      "text/plain": [
       "[10,\n",
       " 10,\n",
       " 10,\n",
       " 11,\n",
       " 11,\n",
       " 12,\n",
       " 12,\n",
       " 12,\n",
       " 12,\n",
       " 12,\n",
       " 12,\n",
       " 13,\n",
       " 13,\n",
       " 13,\n",
       " 14,\n",
       " 14,\n",
       " 14,\n",
       " 14,\n",
       " 14,\n",
       " 15,\n",
       " 15,\n",
       " 15,\n",
       " 15,\n",
       " 17,\n",
       " 19,\n",
       " 107,\n",
       " 1000,\n",
       " 1032,\n",
       " 1088,\n",
       " 1212]"
      ]
     },
     "execution_count": 106,
     "metadata": {},
     "output_type": "execute_result"
    }
   ],
   "source": [
    "sorted(dataset)"
   ]
  },
  {
   "cell_type": "code",
   "execution_count": 110,
   "id": "df1e1958-7f3c-4b46-bff9-53f0c8324d33",
   "metadata": {},
   "outputs": [],
   "source": [
    "quartile1,quartile3 = np.percentile(dataset,[25,75])"
   ]
  },
  {
   "cell_type": "code",
   "execution_count": 112,
   "id": "687a9fd8-1e7e-4a22-9fee-4744a7b55813",
   "metadata": {},
   "outputs": [
    {
     "name": "stdout",
     "output_type": "stream",
     "text": [
      "12.0 15.0\n"
     ]
    }
   ],
   "source": [
    "print(quartile1,quartile3)"
   ]
  },
  {
   "cell_type": "code",
   "execution_count": 114,
   "id": "57adcd9d-4370-4f04-a392-3aee93775ac2",
   "metadata": {},
   "outputs": [
    {
     "data": {
      "text/plain": [
       "3.0"
      ]
     },
     "execution_count": 114,
     "metadata": {},
     "output_type": "execute_result"
    }
   ],
   "source": [
    "## Find IQR\n",
    "\n",
    "iqr_value=quartile3-quartile1\n",
    "iqr_value"
   ]
  },
  {
   "cell_type": "code",
   "execution_count": 121,
   "id": "0b98f137-07c0-4288-8199-52999514c0cc",
   "metadata": {},
   "outputs": [],
   "source": [
    "## Find lower bound value and the higher bound value\n",
    "\n",
    "lower_bound_val = quartile1-(1.5*iqr_value)\n",
    "higher_bound_val = quartile3+(1.5*iqr_value)"
   ]
  },
  {
   "cell_type": "code",
   "execution_count": 123,
   "id": "5757fc18-1ec0-42de-904a-6c203fcc4f28",
   "metadata": {},
   "outputs": [
    {
     "name": "stdout",
     "output_type": "stream",
     "text": [
      "7.5 19.5\n"
     ]
    }
   ],
   "source": [
    "print(lower_bound_val,higher_bound_val)"
   ]
  },
  {
   "cell_type": "code",
   "execution_count": null,
   "id": "080809da-399d-45b4-a5f5-be605729d4f1",
   "metadata": {},
   "outputs": [],
   "source": []
  },
  {
   "cell_type": "code",
   "execution_count": null,
   "id": "eca5443e-f800-4738-ad07-a823f3f27d70",
   "metadata": {},
   "outputs": [],
   "source": []
  },
  {
   "cell_type": "code",
   "execution_count": null,
   "id": "1cdd0455-e752-4e11-b6db-28ed00323254",
   "metadata": {},
   "outputs": [],
   "source": []
  },
  {
   "cell_type": "code",
   "execution_count": null,
   "id": "6dee496d-44fe-4b38-8bbb-3a3426b27259",
   "metadata": {},
   "outputs": [],
   "source": []
  },
  {
   "cell_type": "code",
   "execution_count": null,
   "id": "f9478efe-a717-47bf-8499-fe334be16ee1",
   "metadata": {},
   "outputs": [],
   "source": []
  },
  {
   "cell_type": "code",
   "execution_count": null,
   "id": "caafbe8b-7096-44e2-9536-c6d7262efa02",
   "metadata": {},
   "outputs": [],
   "source": []
  },
  {
   "cell_type": "code",
   "execution_count": null,
   "id": "f5f6c467-271e-4caa-9f28-3d1e5b3f9bd4",
   "metadata": {},
   "outputs": [],
   "source": []
  },
  {
   "cell_type": "code",
   "execution_count": null,
   "id": "a1442596-d77b-4662-b0c3-aa54a4088a5c",
   "metadata": {},
   "outputs": [],
   "source": []
  },
  {
   "cell_type": "code",
   "execution_count": null,
   "id": "64867349-4aa9-4872-b267-8b4b097a1251",
   "metadata": {},
   "outputs": [],
   "source": []
  },
  {
   "cell_type": "code",
   "execution_count": null,
   "id": "6251190e-815a-4a04-88b1-e471d6b2c0be",
   "metadata": {},
   "outputs": [],
   "source": []
  },
  {
   "cell_type": "code",
   "execution_count": null,
   "id": "184d5b51-b284-44e9-8e59-8dca09087628",
   "metadata": {},
   "outputs": [],
   "source": []
  },
  {
   "cell_type": "code",
   "execution_count": null,
   "id": "a487d5d8-549c-455f-a7e2-af9cd318fa0e",
   "metadata": {},
   "outputs": [],
   "source": []
  },
  {
   "cell_type": "code",
   "execution_count": null,
   "id": "642c96ca-91dc-42bb-9531-c6d2c1fc52fb",
   "metadata": {},
   "outputs": [],
   "source": []
  },
  {
   "cell_type": "code",
   "execution_count": null,
   "id": "69ca4c7f-cc5b-4de6-bf97-0e0108b1aa38",
   "metadata": {},
   "outputs": [],
   "source": []
  }
 ],
 "metadata": {
  "kernelspec": {
   "display_name": "Python 3 (ipykernel)",
   "language": "python",
   "name": "python3"
  },
  "language_info": {
   "codemirror_mode": {
    "name": "ipython",
    "version": 3
   },
   "file_extension": ".py",
   "mimetype": "text/x-python",
   "name": "python",
   "nbconvert_exporter": "python",
   "pygments_lexer": "ipython3",
   "version": "3.12.4"
  }
 },
 "nbformat": 4,
 "nbformat_minor": 5
}
