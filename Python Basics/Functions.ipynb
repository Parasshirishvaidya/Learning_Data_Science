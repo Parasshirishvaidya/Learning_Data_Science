{
 "cells": [
  {
   "cell_type": "markdown",
   "id": "dd616497-442b-422f-9659-5a6759640075",
   "metadata": {},
   "source": [
    "# Functions in Python"
   ]
  },
  {
   "cell_type": "code",
   "execution_count": null,
   "id": "3ece668c-24ce-4730-a9c0-b6772a94251e",
   "metadata": {},
   "outputs": [],
   "source": [
    "# in python * is for positional arguments \n",
    "# and ** is denoted for keyword arguments\n"
   ]
  },
  {
   "cell_type": "markdown",
   "id": "c6dc094b-dbe6-428c-bae3-b213f818ddd1",
   "metadata": {},
   "source": [
    "# Lamda Functions"
   ]
  },
  {
   "cell_type": "markdown",
   "id": "fe1a0446-fb2c-4d1b-8aa3-3b8f70cc2b2c",
   "metadata": {},
   "source": [
    "Anonymous Function\n",
    "A function with no name\n",
    "Works faster than a normal function"
   ]
  },
  {
   "cell_type": "code",
   "execution_count": 3,
   "id": "61876624-2628-430b-bb9d-4d8ed834fc5d",
   "metadata": {},
   "outputs": [],
   "source": [
    "addititon = lambda a,b:a+b    "
   ]
  },
  {
   "cell_type": "code",
   "execution_count": 5,
   "id": "9d47d7dd-e03b-42f5-b00b-cf743f8399de",
   "metadata": {},
   "outputs": [
    {
     "data": {
      "text/plain": [
       "7"
      ]
     },
     "execution_count": 5,
     "metadata": {},
     "output_type": "execute_result"
    }
   ],
   "source": [
    "addititon(3,4)"
   ]
  },
  {
   "cell_type": "code",
   "execution_count": 7,
   "id": "db1d8cf1-f69f-4d1d-a630-a8ca19772376",
   "metadata": {},
   "outputs": [
    {
     "data": {
      "text/plain": [
       "True"
      ]
     },
     "execution_count": 7,
     "metadata": {},
     "output_type": "execute_result"
    }
   ],
   "source": [
    "even1=lambda a : a%2==0\n",
    "even1(12)"
   ]
  },
  {
   "cell_type": "markdown",
   "id": "329c0c89-3684-4873-a284-863a08cdc0e1",
   "metadata": {},
   "source": [
    "# Map Function in Python"
   ]
  },
  {
   "cell_type": "code",
   "execution_count": 10,
   "id": "bb5dcf8f-0d68-402b-baaa-e166c23377f6",
   "metadata": {},
   "outputs": [],
   "source": [
    "def even_or_odd(num):\n",
    "    if num%2==0:\n",
    "        return \"The number {} is even\".format(num)\n",
    "    else:\n",
    "        return \"The number {} is odd\".format(num)"
   ]
  },
  {
   "cell_type": "code",
   "execution_count": 14,
   "id": "e76253ab-ec48-4bd6-a800-9fd3cfb87f1a",
   "metadata": {},
   "outputs": [
    {
     "data": {
      "text/plain": [
       "'The number 25 is odd'"
      ]
     },
     "execution_count": 14,
     "metadata": {},
     "output_type": "execute_result"
    }
   ],
   "source": [
    "even_or_odd(25)"
   ]
  },
  {
   "cell_type": "code",
   "execution_count": 18,
   "id": "d56aeef2-cb38-46a5-a23f-f397aa879aab",
   "metadata": {},
   "outputs": [
    {
     "data": {
      "text/plain": [
       "['The number 12 is even',\n",
       " 'The number 53 is odd',\n",
       " 'The number 5 is odd',\n",
       " 'The number 3 is odd',\n",
       " 'The number 2 is even',\n",
       " 'The number 5 is odd',\n",
       " 'The number 2322 is even',\n",
       " 'The number 53 is odd',\n",
       " 'The number 32 is even',\n",
       " 'The number 532 is even']"
      ]
     },
     "execution_count": 18,
     "metadata": {},
     "output_type": "execute_result"
    }
   ],
   "source": [
    "lst=[12,53,5,3,2,5,2322,53,32,532]\n",
    "list(map(even_or_odd,lst))"
   ]
  },
  {
   "cell_type": "markdown",
   "id": "9699158d-db9d-43dd-a811-a481489c8b1b",
   "metadata": {},
   "source": [
    "# Filter Function"
   ]
  },
  {
   "cell_type": "code",
   "execution_count": 23,
   "id": "ec3139fc-66d0-4e03-87c9-cf6d647504cb",
   "metadata": {},
   "outputs": [],
   "source": [
    "def even_or_odd(num):\n",
    "    if num%2==0:\n",
    "        return \"The number {} is even\".format(num)\n",
    "    else:\n",
    "        return \"The number {} is odd\".format(num)"
   ]
  },
  {
   "cell_type": "code",
   "execution_count": 27,
   "id": "f976f93c-6e73-465d-89c5-339f5d7be0b9",
   "metadata": {},
   "outputs": [],
   "source": [
    "lst=[1,3,4,2,5,24,6,3,21,5,4,2,53,1,4,5423]"
   ]
  },
  {
   "cell_type": "code",
   "execution_count": 29,
   "id": "984675e1-ea25-4a3b-a5a2-a018c761a769",
   "metadata": {},
   "outputs": [
    {
     "data": {
      "text/plain": [
       "[1, 3, 4, 2, 5, 24, 6, 3, 21, 5, 4, 2, 53, 1, 4, 5423]"
      ]
     },
     "execution_count": 29,
     "metadata": {},
     "output_type": "execute_result"
    }
   ],
   "source": [
    "list(filter(even_or_odd,lst))"
   ]
  },
  {
   "cell_type": "code",
   "execution_count": null,
   "id": "47ddf782-e6ff-46ca-9472-21618dc6dd5c",
   "metadata": {},
   "outputs": [],
   "source": []
  },
  {
   "cell_type": "code",
   "execution_count": null,
   "id": "3945e9ba-1973-4b7d-a7ba-e288383e1bb3",
   "metadata": {},
   "outputs": [],
   "source": []
  },
  {
   "cell_type": "code",
   "execution_count": null,
   "id": "838b1a2b-90ae-466d-858e-c53e237b8cec",
   "metadata": {},
   "outputs": [],
   "source": []
  },
  {
   "cell_type": "code",
   "execution_count": null,
   "id": "841d1e52-3ca6-4793-9dc6-094ef42770a3",
   "metadata": {},
   "outputs": [],
   "source": []
  },
  {
   "cell_type": "code",
   "execution_count": null,
   "id": "d969cd31-42a5-4dcb-837f-50c6f642b416",
   "metadata": {},
   "outputs": [],
   "source": []
  },
  {
   "cell_type": "code",
   "execution_count": null,
   "id": "6e56575c-ef58-4667-a67e-1760e8c83941",
   "metadata": {},
   "outputs": [],
   "source": []
  }
 ],
 "metadata": {
  "kernelspec": {
   "display_name": "Python 3 (ipykernel)",
   "language": "python",
   "name": "python3"
  },
  "language_info": {
   "codemirror_mode": {
    "name": "ipython",
    "version": 3
   },
   "file_extension": ".py",
   "mimetype": "text/x-python",
   "name": "python",
   "nbconvert_exporter": "python",
   "pygments_lexer": "ipython3",
   "version": "3.12.4"
  }
 },
 "nbformat": 4,
 "nbformat_minor": 5
}
