{
 "cells": [
  {
   "cell_type": "code",
   "execution_count": 1,
   "id": "fda62e86-389b-442e-9ae0-351ee86eb803",
   "metadata": {},
   "outputs": [],
   "source": [
    "# Importing necessary Libraries\n",
    "import numpy as np\n",
    "import pandas as pd \n",
    "import seaborn as sns\n",
    "import matplotlib.pyplot as plt\n",
    "%matplotlib inline"
   ]
  },
  {
   "cell_type": "code",
   "execution_count": 5,
   "id": "380ea6b3-2ce4-4eab-9c1e-245ab8f203fa",
   "metadata": {},
   "outputs": [],
   "source": [
    "## Importing the Dataset\n",
    "df=pd.read_csv('movies_data.csv',encoding='latin-1')"
   ]
  },
  {
   "cell_type": "code",
   "execution_count": 7,
   "id": "eb8dfcc2-3032-4768-9358-5e5b56550e8d",
   "metadata": {},
   "outputs": [
    {
     "data": {
      "text/html": [
       "<div>\n",
       "<style scoped>\n",
       "    .dataframe tbody tr th:only-of-type {\n",
       "        vertical-align: middle;\n",
       "    }\n",
       "\n",
       "    .dataframe tbody tr th {\n",
       "        vertical-align: top;\n",
       "    }\n",
       "\n",
       "    .dataframe thead th {\n",
       "        text-align: right;\n",
       "    }\n",
       "</style>\n",
       "<table border=\"1\" class=\"dataframe\">\n",
       "  <thead>\n",
       "    <tr style=\"text-align: right;\">\n",
       "      <th></th>\n",
       "      <th>Movie</th>\n",
       "      <th>Director</th>\n",
       "      <th>Running time</th>\n",
       "      <th>Actor 1</th>\n",
       "      <th>Actor 2</th>\n",
       "      <th>Actor 3</th>\n",
       "      <th>Genre</th>\n",
       "      <th>Budget</th>\n",
       "      <th>Box Office</th>\n",
       "      <th>Actors Box Office %</th>\n",
       "      <th>Director Box Office %</th>\n",
       "      <th>Earnings</th>\n",
       "      <th>Oscar and Golden Globes nominations</th>\n",
       "      <th>Oscar and Golden Globes awards</th>\n",
       "      <th>Release year</th>\n",
       "      <th>IMDb score</th>\n",
       "    </tr>\n",
       "  </thead>\n",
       "  <tbody>\n",
       "    <tr>\n",
       "      <th>0</th>\n",
       "      <td>13 Hours</td>\n",
       "      <td>Michael Bay</td>\n",
       "      <td>144</td>\n",
       "      <td>Toby Stephens</td>\n",
       "      <td>James Badge Dale</td>\n",
       "      <td>David Costabile</td>\n",
       "      <td>Action</td>\n",
       "      <td>50000000</td>\n",
       "      <td>69400000</td>\n",
       "      <td>50.00</td>\n",
       "      <td>69.23</td>\n",
       "      <td>19400000</td>\n",
       "      <td>0</td>\n",
       "      <td>0.0</td>\n",
       "      <td>2016</td>\n",
       "      <td>7.4</td>\n",
       "    </tr>\n",
       "    <tr>\n",
       "      <th>1</th>\n",
       "      <td>16 Blocks</td>\n",
       "      <td>Richard Donner</td>\n",
       "      <td>102</td>\n",
       "      <td>Bruce Willis</td>\n",
       "      <td>David Zayas</td>\n",
       "      <td>Sasha Roiz</td>\n",
       "      <td>Action</td>\n",
       "      <td>52000000</td>\n",
       "      <td>65000000</td>\n",
       "      <td>33.33</td>\n",
       "      <td>50.00</td>\n",
       "      <td>13000000</td>\n",
       "      <td>0</td>\n",
       "      <td>0.0</td>\n",
       "      <td>2006</td>\n",
       "      <td>6.6</td>\n",
       "    </tr>\n",
       "    <tr>\n",
       "      <th>2</th>\n",
       "      <td>17 Again</td>\n",
       "      <td>Burr Steers</td>\n",
       "      <td>102</td>\n",
       "      <td>Matthew Perry</td>\n",
       "      <td>Hunter Parrish</td>\n",
       "      <td>Thomas Lennon</td>\n",
       "      <td>Comedy</td>\n",
       "      <td>20000000</td>\n",
       "      <td>139000000</td>\n",
       "      <td>44.44</td>\n",
       "      <td>25.00</td>\n",
       "      <td>119000000</td>\n",
       "      <td>0</td>\n",
       "      <td>0.0</td>\n",
       "      <td>2009</td>\n",
       "      <td>6.4</td>\n",
       "    </tr>\n",
       "    <tr>\n",
       "      <th>3</th>\n",
       "      <td>1982</td>\n",
       "      <td>Tommy Oliver</td>\n",
       "      <td>90</td>\n",
       "      <td>Bokeem Woodbine</td>\n",
       "      <td>Ruby Dee</td>\n",
       "      <td>Quinton Aaron</td>\n",
       "      <td>Drama</td>\n",
       "      <td>1000000</td>\n",
       "      <td>2000000</td>\n",
       "      <td>50.00</td>\n",
       "      <td>100.00</td>\n",
       "      <td>1000000</td>\n",
       "      <td>0</td>\n",
       "      <td>0.0</td>\n",
       "      <td>2013</td>\n",
       "      <td>7.1</td>\n",
       "    </tr>\n",
       "    <tr>\n",
       "      <th>4</th>\n",
       "      <td>2 Fast 2 Furious</td>\n",
       "      <td>John Singleton</td>\n",
       "      <td>107</td>\n",
       "      <td>Paul Walker</td>\n",
       "      <td>Cole Hauser</td>\n",
       "      <td>Mo Gallini</td>\n",
       "      <td>Action</td>\n",
       "      <td>76000000</td>\n",
       "      <td>236000000</td>\n",
       "      <td>75.00</td>\n",
       "      <td>42.85</td>\n",
       "      <td>160000000</td>\n",
       "      <td>0</td>\n",
       "      <td>0.0</td>\n",
       "      <td>2003</td>\n",
       "      <td>5.9</td>\n",
       "    </tr>\n",
       "  </tbody>\n",
       "</table>\n",
       "</div>"
      ],
      "text/plain": [
       "              Movie        Director  Running time          Actor 1  \\\n",
       "0          13 Hours     Michael Bay           144    Toby Stephens   \n",
       "1         16 Blocks  Richard Donner           102     Bruce Willis   \n",
       "2          17 Again     Burr Steers           102    Matthew Perry   \n",
       "3              1982    Tommy Oliver            90  Bokeem Woodbine   \n",
       "4  2 Fast 2 Furious  John Singleton           107      Paul Walker   \n",
       "\n",
       "            Actor 2          Actor 3   Genre    Budget  Box Office  \\\n",
       "0  James Badge Dale  David Costabile  Action  50000000    69400000   \n",
       "1       David Zayas       Sasha Roiz  Action  52000000    65000000   \n",
       "2    Hunter Parrish    Thomas Lennon  Comedy  20000000   139000000   \n",
       "3          Ruby Dee    Quinton Aaron   Drama   1000000     2000000   \n",
       "4       Cole Hauser       Mo Gallini  Action  76000000   236000000   \n",
       "\n",
       "   Actors Box Office %  Director Box Office %   Earnings  \\\n",
       "0                50.00                  69.23   19400000   \n",
       "1                33.33                  50.00   13000000   \n",
       "2                44.44                  25.00  119000000   \n",
       "3                50.00                 100.00    1000000   \n",
       "4                75.00                  42.85  160000000   \n",
       "\n",
       "   Oscar and Golden Globes nominations  Oscar and Golden Globes awards  \\\n",
       "0                                    0                             0.0   \n",
       "1                                    0                             0.0   \n",
       "2                                    0                             0.0   \n",
       "3                                    0                             0.0   \n",
       "4                                    0                             0.0   \n",
       "\n",
       "   Release year  IMDb score  \n",
       "0          2016         7.4  \n",
       "1          2006         6.6  \n",
       "2          2009         6.4  \n",
       "3          2013         7.1  \n",
       "4          2003         5.9  "
      ]
     },
     "execution_count": 7,
     "metadata": {},
     "output_type": "execute_result"
    }
   ],
   "source": [
    "df.head()"
   ]
  },
  {
   "cell_type": "code",
   "execution_count": 13,
   "id": "8b38416e-a51b-4a3c-90a5-8716c04720ab",
   "metadata": {},
   "outputs": [
    {
     "name": "stdout",
     "output_type": "stream",
     "text": [
      "<class 'pandas.core.frame.DataFrame'>\n",
      "RangeIndex: 3974 entries, 0 to 3973\n",
      "Data columns (total 16 columns):\n",
      " #   Column                               Non-Null Count  Dtype  \n",
      "---  ------                               --------------  -----  \n",
      " 0   Movie                                3974 non-null   object \n",
      " 1   Director                             3974 non-null   object \n",
      " 2   Running time                         3974 non-null   int64  \n",
      " 3   Actor 1                              3974 non-null   object \n",
      " 4   Actor 2                              3974 non-null   object \n",
      " 5   Actor 3                              3972 non-null   object \n",
      " 6   Genre                                3974 non-null   object \n",
      " 7   Budget                               3974 non-null   int64  \n",
      " 8   Box Office                           3974 non-null   int64  \n",
      " 9   Actors Box Office %                  3974 non-null   float64\n",
      " 10  Director Box Office %                3974 non-null   float64\n",
      " 11  Earnings                             3974 non-null   int64  \n",
      " 12  Oscar and Golden Globes nominations  3974 non-null   int64  \n",
      " 13  Oscar and Golden Globes awards       3971 non-null   float64\n",
      " 14  Release year                         3974 non-null   int64  \n",
      " 15  IMDb score                           3974 non-null   float64\n",
      "dtypes: float64(4), int64(6), object(6)\n",
      "memory usage: 496.9+ KB\n"
     ]
    }
   ],
   "source": [
    "df.info()"
   ]
  },
  {
   "cell_type": "code",
   "execution_count": 15,
   "id": "37facb60-d766-4238-8aba-c27d2ec2b59f",
   "metadata": {},
   "outputs": [
    {
     "data": {
      "text/html": [
       "<div>\n",
       "<style scoped>\n",
       "    .dataframe tbody tr th:only-of-type {\n",
       "        vertical-align: middle;\n",
       "    }\n",
       "\n",
       "    .dataframe tbody tr th {\n",
       "        vertical-align: top;\n",
       "    }\n",
       "\n",
       "    .dataframe thead th {\n",
       "        text-align: right;\n",
       "    }\n",
       "</style>\n",
       "<table border=\"1\" class=\"dataframe\">\n",
       "  <thead>\n",
       "    <tr style=\"text-align: right;\">\n",
       "      <th></th>\n",
       "      <th>Running time</th>\n",
       "      <th>Budget</th>\n",
       "      <th>Box Office</th>\n",
       "      <th>Actors Box Office %</th>\n",
       "      <th>Director Box Office %</th>\n",
       "      <th>Earnings</th>\n",
       "      <th>Oscar and Golden Globes nominations</th>\n",
       "      <th>Oscar and Golden Globes awards</th>\n",
       "      <th>Release year</th>\n",
       "      <th>IMDb score</th>\n",
       "    </tr>\n",
       "  </thead>\n",
       "  <tbody>\n",
       "    <tr>\n",
       "      <th>count</th>\n",
       "      <td>3974.000000</td>\n",
       "      <td>3.974000e+03</td>\n",
       "      <td>3.974000e+03</td>\n",
       "      <td>3.974000e+03</td>\n",
       "      <td>3974.000000</td>\n",
       "      <td>3.974000e+03</td>\n",
       "      <td>3974.000000</td>\n",
       "      <td>3971.000000</td>\n",
       "      <td>3974.000000</td>\n",
       "      <td>3974.000000</td>\n",
       "    </tr>\n",
       "    <tr>\n",
       "      <th>mean</th>\n",
       "      <td>109.967036</td>\n",
       "      <td>3.690639e+07</td>\n",
       "      <td>1.086770e+08</td>\n",
       "      <td>2.984678e+09</td>\n",
       "      <td>52.780695</td>\n",
       "      <td>7.177060e+07</td>\n",
       "      <td>1.106694</td>\n",
       "      <td>0.321330</td>\n",
       "      <td>2002.043785</td>\n",
       "      <td>6.467866</td>\n",
       "    </tr>\n",
       "    <tr>\n",
       "      <th>std</th>\n",
       "      <td>22.507658</td>\n",
       "      <td>4.270431e+07</td>\n",
       "      <td>1.798354e+08</td>\n",
       "      <td>1.344684e+11</td>\n",
       "      <td>35.360199</td>\n",
       "      <td>1.526573e+08</td>\n",
       "      <td>2.724019</td>\n",
       "      <td>1.209324</td>\n",
       "      <td>12.127027</td>\n",
       "      <td>1.072514</td>\n",
       "    </tr>\n",
       "    <tr>\n",
       "      <th>min</th>\n",
       "      <td>20.000000</td>\n",
       "      <td>1.100000e+03</td>\n",
       "      <td>5.000000e+04</td>\n",
       "      <td>0.000000e+00</td>\n",
       "      <td>0.000000</td>\n",
       "      <td>-3.231000e+08</td>\n",
       "      <td>0.000000</td>\n",
       "      <td>0.000000</td>\n",
       "      <td>1929.000000</td>\n",
       "      <td>1.600000</td>\n",
       "    </tr>\n",
       "    <tr>\n",
       "      <th>25%</th>\n",
       "      <td>95.000000</td>\n",
       "      <td>9.000000e+06</td>\n",
       "      <td>1.200000e+07</td>\n",
       "      <td>3.333000e+01</td>\n",
       "      <td>25.000000</td>\n",
       "      <td>0.000000e+00</td>\n",
       "      <td>0.000000</td>\n",
       "      <td>0.000000</td>\n",
       "      <td>1998.000000</td>\n",
       "      <td>5.900000</td>\n",
       "    </tr>\n",
       "    <tr>\n",
       "      <th>50%</th>\n",
       "      <td>106.000000</td>\n",
       "      <td>2.200000e+07</td>\n",
       "      <td>4.300000e+07</td>\n",
       "      <td>5.714000e+01</td>\n",
       "      <td>50.000000</td>\n",
       "      <td>1.850000e+07</td>\n",
       "      <td>0.000000</td>\n",
       "      <td>0.000000</td>\n",
       "      <td>2005.000000</td>\n",
       "      <td>6.600000</td>\n",
       "    </tr>\n",
       "    <tr>\n",
       "      <th>75%</th>\n",
       "      <td>120.000000</td>\n",
       "      <td>5.000000e+07</td>\n",
       "      <td>1.250000e+08</td>\n",
       "      <td>8.333000e+01</td>\n",
       "      <td>80.000000</td>\n",
       "      <td>8.100000e+07</td>\n",
       "      <td>1.000000</td>\n",
       "      <td>0.000000</td>\n",
       "      <td>2010.000000</td>\n",
       "      <td>7.200000</td>\n",
       "    </tr>\n",
       "    <tr>\n",
       "      <th>max</th>\n",
       "      <td>330.000000</td>\n",
       "      <td>3.900000e+08</td>\n",
       "      <td>2.923000e+09</td>\n",
       "      <td>6.805556e+12</td>\n",
       "      <td>100.000000</td>\n",
       "      <td>2.686000e+09</td>\n",
       "      <td>22.000000</td>\n",
       "      <td>13.000000</td>\n",
       "      <td>2016.000000</td>\n",
       "      <td>9.300000</td>\n",
       "    </tr>\n",
       "  </tbody>\n",
       "</table>\n",
       "</div>"
      ],
      "text/plain": [
       "       Running time        Budget    Box Office  Actors Box Office %  \\\n",
       "count   3974.000000  3.974000e+03  3.974000e+03         3.974000e+03   \n",
       "mean     109.967036  3.690639e+07  1.086770e+08         2.984678e+09   \n",
       "std       22.507658  4.270431e+07  1.798354e+08         1.344684e+11   \n",
       "min       20.000000  1.100000e+03  5.000000e+04         0.000000e+00   \n",
       "25%       95.000000  9.000000e+06  1.200000e+07         3.333000e+01   \n",
       "50%      106.000000  2.200000e+07  4.300000e+07         5.714000e+01   \n",
       "75%      120.000000  5.000000e+07  1.250000e+08         8.333000e+01   \n",
       "max      330.000000  3.900000e+08  2.923000e+09         6.805556e+12   \n",
       "\n",
       "       Director Box Office %      Earnings  \\\n",
       "count            3974.000000  3.974000e+03   \n",
       "mean               52.780695  7.177060e+07   \n",
       "std                35.360199  1.526573e+08   \n",
       "min                 0.000000 -3.231000e+08   \n",
       "25%                25.000000  0.000000e+00   \n",
       "50%                50.000000  1.850000e+07   \n",
       "75%                80.000000  8.100000e+07   \n",
       "max               100.000000  2.686000e+09   \n",
       "\n",
       "       Oscar and Golden Globes nominations  Oscar and Golden Globes awards  \\\n",
       "count                          3974.000000                     3971.000000   \n",
       "mean                              1.106694                        0.321330   \n",
       "std                               2.724019                        1.209324   \n",
       "min                               0.000000                        0.000000   \n",
       "25%                               0.000000                        0.000000   \n",
       "50%                               0.000000                        0.000000   \n",
       "75%                               1.000000                        0.000000   \n",
       "max                              22.000000                       13.000000   \n",
       "\n",
       "       Release year   IMDb score  \n",
       "count   3974.000000  3974.000000  \n",
       "mean    2002.043785     6.467866  \n",
       "std       12.127027     1.072514  \n",
       "min     1929.000000     1.600000  \n",
       "25%     1998.000000     5.900000  \n",
       "50%     2005.000000     6.600000  \n",
       "75%     2010.000000     7.200000  \n",
       "max     2016.000000     9.300000  "
      ]
     },
     "execution_count": 15,
     "metadata": {},
     "output_type": "execute_result"
    }
   ],
   "source": [
    "df.describe()"
   ]
  },
  {
   "cell_type": "code",
   "execution_count": 58,
   "id": "3877352c-b75d-4d46-a86d-c726660eec62",
   "metadata": {},
   "outputs": [
    {
     "data": {
      "text/plain": [
       "Movie                                  0\n",
       "Director                               0\n",
       "Running time                           0\n",
       "Actor 1                                0\n",
       "Actor 2                                0\n",
       "Actor 3                                2\n",
       "Genre                                  0\n",
       "Budget                                 0\n",
       "Box Office                             0\n",
       "Actors Box Office %                    0\n",
       "Director Box Office %                  0\n",
       "Earnings                               0\n",
       "Oscar and Golden Globes nominations    0\n",
       "Oscar and Golden Globes awards         3\n",
       "Release year                           0\n",
       "IMDb score                             0\n",
       "dtype: int64"
      ]
     },
     "execution_count": 58,
     "metadata": {},
     "output_type": "execute_result"
    }
   ],
   "source": [
    "## Nullvalues \n",
    "df.isnull().sum()"
   ]
  },
  {
   "cell_type": "code",
   "execution_count": null,
   "id": "d90a690d-a9e0-414b-a506-2253a1d59dc7",
   "metadata": {},
   "outputs": [],
   "source": [
    "## Since there is a small number of null values we will handle it when we target the features ACTOR 3  and  Oscar and Golden Globes awards  "
   ]
  },
  {
   "cell_type": "markdown",
   "id": "67bc9248-b3fc-460e-9430-0e035fb73b63",
   "metadata": {},
   "source": [
    "## Removing Duplicate values from the Dataset"
   ]
  },
  {
   "cell_type": "code",
   "execution_count": 9,
   "id": "46a1e8b4-4799-4f79-8d15-22c3f19d4c12",
   "metadata": {},
   "outputs": [
    {
     "data": {
      "text/plain": [
       "array(['13 Hours', '16 Blocks', '17 Again', ..., 'Zero Effect',\n",
       "       'Zombieland', 'Zulu'], dtype=object)"
      ]
     },
     "execution_count": 9,
     "metadata": {},
     "output_type": "execute_result"
    }
   ],
   "source": [
    "df['Movie'].unique()"
   ]
  },
  {
   "cell_type": "code",
   "execution_count": 33,
   "id": "358b9dc9-6206-4831-98d1-c7900e915342",
   "metadata": {},
   "outputs": [
    {
     "data": {
      "text/plain": [
       "Movie\n",
       "The Fast and the Furious        3\n",
       "Victor Frankenstein             3\n",
       "Pan                             3\n",
       "Eddie the Eagle                 2\n",
       "Teenage Mutant Ninja Turtles    2\n",
       "                               ..\n",
       "Your Highness                   1\n",
       "Yours Mine and Ours             1\n",
       "Zathura: A Space Adventure      1\n",
       "Zookeeper                       1\n",
       "Zulu                            1\n",
       "Name: count, Length: 3907, dtype: int64"
      ]
     },
     "execution_count": 33,
     "metadata": {},
     "output_type": "execute_result"
    }
   ],
   "source": [
    "df['Movie'].value_counts()"
   ]
  },
  {
   "cell_type": "code",
   "execution_count": 17,
   "id": "f9a2d0a3-7f3e-470a-a7cf-334247d01b55",
   "metadata": {},
   "outputs": [
    {
     "data": {
      "text/html": [
       "<div>\n",
       "<style scoped>\n",
       "    .dataframe tbody tr th:only-of-type {\n",
       "        vertical-align: middle;\n",
       "    }\n",
       "\n",
       "    .dataframe tbody tr th {\n",
       "        vertical-align: top;\n",
       "    }\n",
       "\n",
       "    .dataframe thead th {\n",
       "        text-align: right;\n",
       "    }\n",
       "</style>\n",
       "<table border=\"1\" class=\"dataframe\">\n",
       "  <thead>\n",
       "    <tr style=\"text-align: right;\">\n",
       "      <th></th>\n",
       "      <th>Movie</th>\n",
       "      <th>Director</th>\n",
       "      <th>Running time</th>\n",
       "      <th>Actor 1</th>\n",
       "      <th>Actor 2</th>\n",
       "      <th>Actor 3</th>\n",
       "      <th>Genre</th>\n",
       "      <th>Budget</th>\n",
       "      <th>Box Office</th>\n",
       "      <th>Actors Box Office %</th>\n",
       "      <th>Director Box Office %</th>\n",
       "      <th>Earnings</th>\n",
       "      <th>Oscar and Golden Globes nominations</th>\n",
       "      <th>Oscar and Golden Globes awards</th>\n",
       "      <th>Release year</th>\n",
       "      <th>IMDb score</th>\n",
       "    </tr>\n",
       "  </thead>\n",
       "  <tbody>\n",
       "    <tr>\n",
       "      <th>1015</th>\n",
       "      <td>The Fast and the Furious</td>\n",
       "      <td>Rob Cohen</td>\n",
       "      <td>106</td>\n",
       "      <td>Paul Walker</td>\n",
       "      <td>Vin Diesel</td>\n",
       "      <td>Jordana Brewster</td>\n",
       "      <td>Action</td>\n",
       "      <td>38000000</td>\n",
       "      <td>207000000</td>\n",
       "      <td>100.0</td>\n",
       "      <td>81.81</td>\n",
       "      <td>169000000</td>\n",
       "      <td>0</td>\n",
       "      <td>0.0</td>\n",
       "      <td>2001</td>\n",
       "      <td>6.7</td>\n",
       "    </tr>\n",
       "    <tr>\n",
       "      <th>1016</th>\n",
       "      <td>The Fast and the Furious</td>\n",
       "      <td>Rob Cohen</td>\n",
       "      <td>106</td>\n",
       "      <td>Paul Walker</td>\n",
       "      <td>Vin Diesel</td>\n",
       "      <td>Jordana Brewster</td>\n",
       "      <td>Action</td>\n",
       "      <td>38000000</td>\n",
       "      <td>207000000</td>\n",
       "      <td>100.0</td>\n",
       "      <td>81.81</td>\n",
       "      <td>169000000</td>\n",
       "      <td>0</td>\n",
       "      <td>0.0</td>\n",
       "      <td>2001</td>\n",
       "      <td>6.7</td>\n",
       "    </tr>\n",
       "    <tr>\n",
       "      <th>1575</th>\n",
       "      <td>The Fast and the Furious</td>\n",
       "      <td>Rob Cohen</td>\n",
       "      <td>106</td>\n",
       "      <td>Paul Walker</td>\n",
       "      <td>Vin Diesel</td>\n",
       "      <td>Jordana Brewster</td>\n",
       "      <td>Action</td>\n",
       "      <td>38000000</td>\n",
       "      <td>207000000</td>\n",
       "      <td>100.0</td>\n",
       "      <td>81.81</td>\n",
       "      <td>169000000</td>\n",
       "      <td>1</td>\n",
       "      <td>0.0</td>\n",
       "      <td>2001</td>\n",
       "      <td>6.7</td>\n",
       "    </tr>\n",
       "  </tbody>\n",
       "</table>\n",
       "</div>"
      ],
      "text/plain": [
       "                         Movie   Director  Running time      Actor 1  \\\n",
       "1015  The Fast and the Furious  Rob Cohen           106  Paul Walker   \n",
       "1016  The Fast and the Furious  Rob Cohen           106  Paul Walker   \n",
       "1575  The Fast and the Furious  Rob Cohen           106  Paul Walker   \n",
       "\n",
       "         Actor 2           Actor 3   Genre    Budget  Box Office  \\\n",
       "1015  Vin Diesel  Jordana Brewster  Action  38000000   207000000   \n",
       "1016  Vin Diesel  Jordana Brewster  Action  38000000   207000000   \n",
       "1575  Vin Diesel  Jordana Brewster  Action  38000000   207000000   \n",
       "\n",
       "      Actors Box Office %  Director Box Office %   Earnings  \\\n",
       "1015                100.0                  81.81  169000000   \n",
       "1016                100.0                  81.81  169000000   \n",
       "1575                100.0                  81.81  169000000   \n",
       "\n",
       "      Oscar and Golden Globes nominations  Oscar and Golden Globes awards  \\\n",
       "1015                                    0                             0.0   \n",
       "1016                                    0                             0.0   \n",
       "1575                                    1                             0.0   \n",
       "\n",
       "      Release year  IMDb score  \n",
       "1015          2001         6.7  \n",
       "1016          2001         6.7  \n",
       "1575          2001         6.7  "
      ]
     },
     "execution_count": 17,
     "metadata": {},
     "output_type": "execute_result"
    }
   ],
   "source": [
    "df[df['Movie']=='The Fast and the Furious']"
   ]
  },
  {
   "cell_type": "code",
   "execution_count": 21,
   "id": "b724cc4f-623e-45b6-bb01-67223fe3c6dc",
   "metadata": {},
   "outputs": [
    {
     "data": {
      "text/html": [
       "<div>\n",
       "<style scoped>\n",
       "    .dataframe tbody tr th:only-of-type {\n",
       "        vertical-align: middle;\n",
       "    }\n",
       "\n",
       "    .dataframe tbody tr th {\n",
       "        vertical-align: top;\n",
       "    }\n",
       "\n",
       "    .dataframe thead th {\n",
       "        text-align: right;\n",
       "    }\n",
       "</style>\n",
       "<table border=\"1\" class=\"dataframe\">\n",
       "  <thead>\n",
       "    <tr style=\"text-align: right;\">\n",
       "      <th></th>\n",
       "      <th>Movie</th>\n",
       "      <th>Director</th>\n",
       "      <th>Running time</th>\n",
       "      <th>Actor 1</th>\n",
       "      <th>Actor 2</th>\n",
       "      <th>Actor 3</th>\n",
       "      <th>Genre</th>\n",
       "      <th>Budget</th>\n",
       "      <th>Box Office</th>\n",
       "      <th>Actors Box Office %</th>\n",
       "      <th>Director Box Office %</th>\n",
       "      <th>Earnings</th>\n",
       "      <th>Oscar and Golden Globes nominations</th>\n",
       "      <th>Oscar and Golden Globes awards</th>\n",
       "      <th>Release year</th>\n",
       "      <th>IMDb score</th>\n",
       "    </tr>\n",
       "  </thead>\n",
       "  <tbody>\n",
       "    <tr>\n",
       "      <th>1281</th>\n",
       "      <td>Victor Frankenstein</td>\n",
       "      <td>Paul McGuigan</td>\n",
       "      <td>110</td>\n",
       "      <td>Daniel Radcliffe</td>\n",
       "      <td>Spencer Wilding</td>\n",
       "      <td>Daniel Mays</td>\n",
       "      <td>Thriller</td>\n",
       "      <td>40000000</td>\n",
       "      <td>32500000</td>\n",
       "      <td>47.22</td>\n",
       "      <td>28.57</td>\n",
       "      <td>-7500000</td>\n",
       "      <td>0</td>\n",
       "      <td>0.0</td>\n",
       "      <td>2015</td>\n",
       "      <td>6.0</td>\n",
       "    </tr>\n",
       "    <tr>\n",
       "      <th>1282</th>\n",
       "      <td>Victor Frankenstein</td>\n",
       "      <td>Paul McGuigan</td>\n",
       "      <td>110</td>\n",
       "      <td>Daniel Radcliffe</td>\n",
       "      <td>Spencer Wilding</td>\n",
       "      <td>Daniel Mays</td>\n",
       "      <td>Thriller</td>\n",
       "      <td>40000000</td>\n",
       "      <td>43000000</td>\n",
       "      <td>47.22</td>\n",
       "      <td>28.57</td>\n",
       "      <td>3000000</td>\n",
       "      <td>0</td>\n",
       "      <td>0.0</td>\n",
       "      <td>2015</td>\n",
       "      <td>6.0</td>\n",
       "    </tr>\n",
       "    <tr>\n",
       "      <th>1283</th>\n",
       "      <td>Victor Frankenstein</td>\n",
       "      <td>Paul McGuigan</td>\n",
       "      <td>110</td>\n",
       "      <td>Daniel Radcliffe</td>\n",
       "      <td>Spencer Wilding</td>\n",
       "      <td>Daniel Mays</td>\n",
       "      <td>Thriller</td>\n",
       "      <td>40000000</td>\n",
       "      <td>34000000</td>\n",
       "      <td>47.22</td>\n",
       "      <td>28.57</td>\n",
       "      <td>-6000000</td>\n",
       "      <td>0</td>\n",
       "      <td>0.0</td>\n",
       "      <td>2015</td>\n",
       "      <td>6.0</td>\n",
       "    </tr>\n",
       "  </tbody>\n",
       "</table>\n",
       "</div>"
      ],
      "text/plain": [
       "                    Movie       Director  Running time           Actor 1  \\\n",
       "1281  Victor Frankenstein  Paul McGuigan           110  Daniel Radcliffe   \n",
       "1282  Victor Frankenstein  Paul McGuigan           110  Daniel Radcliffe   \n",
       "1283  Victor Frankenstein  Paul McGuigan           110  Daniel Radcliffe   \n",
       "\n",
       "              Actor 2      Actor 3     Genre    Budget  Box Office  \\\n",
       "1281  Spencer Wilding  Daniel Mays  Thriller  40000000    32500000   \n",
       "1282  Spencer Wilding  Daniel Mays  Thriller  40000000    43000000   \n",
       "1283  Spencer Wilding  Daniel Mays  Thriller  40000000    34000000   \n",
       "\n",
       "      Actors Box Office %  Director Box Office %  Earnings  \\\n",
       "1281                47.22                  28.57  -7500000   \n",
       "1282                47.22                  28.57   3000000   \n",
       "1283                47.22                  28.57  -6000000   \n",
       "\n",
       "      Oscar and Golden Globes nominations  Oscar and Golden Globes awards  \\\n",
       "1281                                    0                             0.0   \n",
       "1282                                    0                             0.0   \n",
       "1283                                    0                             0.0   \n",
       "\n",
       "      Release year  IMDb score  \n",
       "1281          2015         6.0  \n",
       "1282          2015         6.0  \n",
       "1283          2015         6.0  "
      ]
     },
     "execution_count": 21,
     "metadata": {},
     "output_type": "execute_result"
    }
   ],
   "source": [
    "df[df['Movie']=='Victor Frankenstein']"
   ]
  },
  {
   "cell_type": "code",
   "execution_count": 35,
   "id": "be30b975-d35f-4430-92ce-31e942877b4a",
   "metadata": {},
   "outputs": [],
   "source": [
    "## We can remove  records that are duplicated as one record is enough for each movie to train the model"
   ]
  },
  {
   "cell_type": "code",
   "execution_count": 43,
   "id": "44fd5abd-3131-4daa-a920-5a6582b945a5",
   "metadata": {},
   "outputs": [],
   "source": [
    "df.drop_duplicates(subset='Movie',keep='first',inplace=True)"
   ]
  },
  {
   "cell_type": "code",
   "execution_count": 50,
   "id": "acf1da31-4905-482f-85d7-6847c02057d1",
   "metadata": {},
   "outputs": [
    {
     "data": {
      "text/plain": [
       "Movie\n",
       "13 Hours                     1\n",
       "Heavenly Creatures           1\n",
       "Hedwig and the Angry Inch    1\n",
       "Heist                        1\n",
       "Held Up                      1\n",
       "                            ..\n",
       "World Trade Center           1\n",
       "World War Z                  1\n",
       "Wrath of the Titans          1\n",
       "Wyatt Earp                   1\n",
       "Zulu                         1\n",
       "Name: count, Length: 3907, dtype: int64"
      ]
     },
     "execution_count": 50,
     "metadata": {},
     "output_type": "execute_result"
    }
   ],
   "source": [
    "df['Movie'].value_counts()"
   ]
  },
  {
   "cell_type": "code",
   "execution_count": 54,
   "id": "6615e24f-6ab9-42b2-8f16-0fcf1a056cce",
   "metadata": {},
   "outputs": [
    {
     "data": {
      "text/html": [
       "<div>\n",
       "<style scoped>\n",
       "    .dataframe tbody tr th:only-of-type {\n",
       "        vertical-align: middle;\n",
       "    }\n",
       "\n",
       "    .dataframe tbody tr th {\n",
       "        vertical-align: top;\n",
       "    }\n",
       "\n",
       "    .dataframe thead th {\n",
       "        text-align: right;\n",
       "    }\n",
       "</style>\n",
       "<table border=\"1\" class=\"dataframe\">\n",
       "  <thead>\n",
       "    <tr style=\"text-align: right;\">\n",
       "      <th></th>\n",
       "      <th>Movie</th>\n",
       "      <th>Director</th>\n",
       "      <th>Running time</th>\n",
       "      <th>Actor 1</th>\n",
       "      <th>Actor 2</th>\n",
       "      <th>Actor 3</th>\n",
       "      <th>Genre</th>\n",
       "      <th>Budget</th>\n",
       "      <th>Box Office</th>\n",
       "      <th>Actors Box Office %</th>\n",
       "      <th>Director Box Office %</th>\n",
       "      <th>Earnings</th>\n",
       "      <th>Oscar and Golden Globes nominations</th>\n",
       "      <th>Oscar and Golden Globes awards</th>\n",
       "      <th>Release year</th>\n",
       "      <th>IMDb score</th>\n",
       "    </tr>\n",
       "  </thead>\n",
       "  <tbody>\n",
       "    <tr>\n",
       "      <th>0</th>\n",
       "      <td>13 Hours</td>\n",
       "      <td>Michael Bay</td>\n",
       "      <td>144</td>\n",
       "      <td>Toby Stephens</td>\n",
       "      <td>James Badge Dale</td>\n",
       "      <td>David Costabile</td>\n",
       "      <td>Action</td>\n",
       "      <td>50000000</td>\n",
       "      <td>69400000</td>\n",
       "      <td>50.00</td>\n",
       "      <td>69.23</td>\n",
       "      <td>19400000</td>\n",
       "      <td>0</td>\n",
       "      <td>0.0</td>\n",
       "      <td>2016</td>\n",
       "      <td>7.4</td>\n",
       "    </tr>\n",
       "    <tr>\n",
       "      <th>1</th>\n",
       "      <td>16 Blocks</td>\n",
       "      <td>Richard Donner</td>\n",
       "      <td>102</td>\n",
       "      <td>Bruce Willis</td>\n",
       "      <td>David Zayas</td>\n",
       "      <td>Sasha Roiz</td>\n",
       "      <td>Action</td>\n",
       "      <td>52000000</td>\n",
       "      <td>65000000</td>\n",
       "      <td>33.33</td>\n",
       "      <td>50.00</td>\n",
       "      <td>13000000</td>\n",
       "      <td>0</td>\n",
       "      <td>0.0</td>\n",
       "      <td>2006</td>\n",
       "      <td>6.6</td>\n",
       "    </tr>\n",
       "    <tr>\n",
       "      <th>2</th>\n",
       "      <td>17 Again</td>\n",
       "      <td>Burr Steers</td>\n",
       "      <td>102</td>\n",
       "      <td>Matthew Perry</td>\n",
       "      <td>Hunter Parrish</td>\n",
       "      <td>Thomas Lennon</td>\n",
       "      <td>Comedy</td>\n",
       "      <td>20000000</td>\n",
       "      <td>139000000</td>\n",
       "      <td>44.44</td>\n",
       "      <td>25.00</td>\n",
       "      <td>119000000</td>\n",
       "      <td>0</td>\n",
       "      <td>0.0</td>\n",
       "      <td>2009</td>\n",
       "      <td>6.4</td>\n",
       "    </tr>\n",
       "    <tr>\n",
       "      <th>3</th>\n",
       "      <td>1982</td>\n",
       "      <td>Tommy Oliver</td>\n",
       "      <td>90</td>\n",
       "      <td>Bokeem Woodbine</td>\n",
       "      <td>Ruby Dee</td>\n",
       "      <td>Quinton Aaron</td>\n",
       "      <td>Drama</td>\n",
       "      <td>1000000</td>\n",
       "      <td>2000000</td>\n",
       "      <td>50.00</td>\n",
       "      <td>100.00</td>\n",
       "      <td>1000000</td>\n",
       "      <td>0</td>\n",
       "      <td>0.0</td>\n",
       "      <td>2013</td>\n",
       "      <td>7.1</td>\n",
       "    </tr>\n",
       "    <tr>\n",
       "      <th>4</th>\n",
       "      <td>2 Fast 2 Furious</td>\n",
       "      <td>John Singleton</td>\n",
       "      <td>107</td>\n",
       "      <td>Paul Walker</td>\n",
       "      <td>Cole Hauser</td>\n",
       "      <td>Mo Gallini</td>\n",
       "      <td>Action</td>\n",
       "      <td>76000000</td>\n",
       "      <td>236000000</td>\n",
       "      <td>75.00</td>\n",
       "      <td>42.85</td>\n",
       "      <td>160000000</td>\n",
       "      <td>0</td>\n",
       "      <td>0.0</td>\n",
       "      <td>2003</td>\n",
       "      <td>5.9</td>\n",
       "    </tr>\n",
       "  </tbody>\n",
       "</table>\n",
       "</div>"
      ],
      "text/plain": [
       "              Movie        Director  Running time          Actor 1  \\\n",
       "0          13 Hours     Michael Bay           144    Toby Stephens   \n",
       "1         16 Blocks  Richard Donner           102     Bruce Willis   \n",
       "2          17 Again     Burr Steers           102    Matthew Perry   \n",
       "3              1982    Tommy Oliver            90  Bokeem Woodbine   \n",
       "4  2 Fast 2 Furious  John Singleton           107      Paul Walker   \n",
       "\n",
       "            Actor 2          Actor 3   Genre    Budget  Box Office  \\\n",
       "0  James Badge Dale  David Costabile  Action  50000000    69400000   \n",
       "1       David Zayas       Sasha Roiz  Action  52000000    65000000   \n",
       "2    Hunter Parrish    Thomas Lennon  Comedy  20000000   139000000   \n",
       "3          Ruby Dee    Quinton Aaron   Drama   1000000     2000000   \n",
       "4       Cole Hauser       Mo Gallini  Action  76000000   236000000   \n",
       "\n",
       "   Actors Box Office %  Director Box Office %   Earnings  \\\n",
       "0                50.00                  69.23   19400000   \n",
       "1                33.33                  50.00   13000000   \n",
       "2                44.44                  25.00  119000000   \n",
       "3                50.00                 100.00    1000000   \n",
       "4                75.00                  42.85  160000000   \n",
       "\n",
       "   Oscar and Golden Globes nominations  Oscar and Golden Globes awards  \\\n",
       "0                                    0                             0.0   \n",
       "1                                    0                             0.0   \n",
       "2                                    0                             0.0   \n",
       "3                                    0                             0.0   \n",
       "4                                    0                             0.0   \n",
       "\n",
       "   Release year  IMDb score  \n",
       "0          2016         7.4  \n",
       "1          2006         6.6  \n",
       "2          2009         6.4  \n",
       "3          2013         7.1  \n",
       "4          2003         5.9  "
      ]
     },
     "execution_count": 54,
     "metadata": {},
     "output_type": "execute_result"
    }
   ],
   "source": [
    "df.head()"
   ]
  },
  {
   "cell_type": "code",
   "execution_count": 62,
   "id": "42eaedc9-610a-4eaf-a90d-9975711d6635",
   "metadata": {},
   "outputs": [],
   "source": [
    "## Explore the Running time feature"
   ]
  },
  {
   "cell_type": "code",
   "execution_count": 64,
   "id": "e34a4a4f-9872-4fa7-b762-e4da122ebea4",
   "metadata": {},
   "outputs": [
    {
     "name": "stderr",
     "output_type": "stream",
     "text": [
      "C:\\Users\\Paras Shirish Vaidya\\AppData\\Local\\Temp\\ipykernel_1348\\2296342360.py:1: UserWarning: \n",
      "\n",
      "`distplot` is a deprecated function and will be removed in seaborn v0.14.0.\n",
      "\n",
      "Please adapt your code to use either `displot` (a figure-level function with\n",
      "similar flexibility) or `histplot` (an axes-level function for histograms).\n",
      "\n",
      "For a guide to updating your code to use the new functions, please see\n",
      "https://gist.github.com/mwaskom/de44147ed2974457ad6372750bbe5751\n",
      "\n",
      "  sns.distplot(df['Running time'])\n"
     ]
    },
    {
     "data": {
      "text/plain": [
       "<Axes: xlabel='Running time', ylabel='Density'>"
      ]
     },
     "execution_count": 64,
     "metadata": {},
     "output_type": "execute_result"
    },
    {
     "data": {
      "image/png": "[encoded data removed]",
      "text/plain": [
       "<Figure size 640x480 with 1 Axes>"
      ]
     },
     "metadata": {},
     "output_type": "display_data"
    }
   ],
   "source": [
    "sns.distplot(df['Running time'])"
   ]
  },
  {
   "cell_type": "code",
   "execution_count": null,
   "id": "65555d2f-cc0c-49a4-a5c1-bcf54576e7c4",
   "metadata": {},
   "outputs": [],
   "source": [
    "#Observation: -Running Time follows a Gaussian Distribution and it is the ideal distribution to train a machine learning algorithm "
   ]
  },
  {
   "cell_type": "code",
   "execution_count": 66,
   "id": "76daa7f5-fbd5-4149-ae1e-d1710fca44b1",
   "metadata": {},
   "outputs": [
    {
     "data": {
      "text/plain": [
       "<Axes: ylabel='Running time'>"
      ]
     },
     "execution_count": 66,
     "metadata": {},
     "output_type": "execute_result"
    },
    {
     "data": {
      "image/png": "[encoded data removed]",
      "text/plain": [
       "<Figure size 640x480 with 1 Axes>"
      ]
     },
     "metadata": {},
     "output_type": "display_data"
    }
   ],
   "source": [
    "sns.boxplot(data=df['Running time'])"
   ]
  },
  {
   "cell_type": "code",
   "execution_count": 101,
   "id": "f6c5eca1-5759-42e5-a394-1150063e73ac",
   "metadata": {},
   "outputs": [
    {
     "data": {
      "text/html": [
       "<div>\n",
       "<style scoped>\n",
       "    .dataframe tbody tr th:only-of-type {\n",
       "        vertical-align: middle;\n",
       "    }\n",
       "\n",
       "    .dataframe tbody tr th {\n",
       "        vertical-align: top;\n",
       "    }\n",
       "\n",
       "    .dataframe thead th {\n",
       "        text-align: right;\n",
       "    }\n",
       "</style>\n",
       "<table border=\"1\" class=\"dataframe\">\n",
       "  <thead>\n",
       "    <tr style=\"text-align: right;\">\n",
       "      <th></th>\n",
       "      <th>Movie</th>\n",
       "      <th>Director</th>\n",
       "      <th>Running time</th>\n",
       "      <th>Actor 1</th>\n",
       "      <th>Actor 2</th>\n",
       "      <th>Actor 3</th>\n",
       "      <th>Genre</th>\n",
       "      <th>Budget</th>\n",
       "      <th>Box Office</th>\n",
       "      <th>Actors Box Office %</th>\n",
       "      <th>Director Box Office %</th>\n",
       "      <th>Earnings</th>\n",
       "      <th>Oscar and Golden Globes nominations</th>\n",
       "      <th>Oscar and Golden Globes awards</th>\n",
       "      <th>Release year</th>\n",
       "      <th>IMDb score</th>\n",
       "    </tr>\n",
       "  </thead>\n",
       "  <tbody>\n",
       "    <tr>\n",
       "      <th>0</th>\n",
       "      <td>13 Hours</td>\n",
       "      <td>Michael Bay</td>\n",
       "      <td>144</td>\n",
       "      <td>Toby Stephens</td>\n",
       "      <td>James Badge Dale</td>\n",
       "      <td>David Costabile</td>\n",
       "      <td>Action</td>\n",
       "      <td>50000000</td>\n",
       "      <td>69400000</td>\n",
       "      <td>50.00</td>\n",
       "      <td>69.23</td>\n",
       "      <td>19400000</td>\n",
       "      <td>0</td>\n",
       "      <td>0.0</td>\n",
       "      <td>2016</td>\n",
       "      <td>7.4</td>\n",
       "    </tr>\n",
       "    <tr>\n",
       "      <th>1</th>\n",
       "      <td>16 Blocks</td>\n",
       "      <td>Richard Donner</td>\n",
       "      <td>102</td>\n",
       "      <td>Bruce Willis</td>\n",
       "      <td>David Zayas</td>\n",
       "      <td>Sasha Roiz</td>\n",
       "      <td>Action</td>\n",
       "      <td>52000000</td>\n",
       "      <td>65000000</td>\n",
       "      <td>33.33</td>\n",
       "      <td>50.00</td>\n",
       "      <td>13000000</td>\n",
       "      <td>0</td>\n",
       "      <td>0.0</td>\n",
       "      <td>2006</td>\n",
       "      <td>6.6</td>\n",
       "    </tr>\n",
       "    <tr>\n",
       "      <th>2</th>\n",
       "      <td>17 Again</td>\n",
       "      <td>Burr Steers</td>\n",
       "      <td>102</td>\n",
       "      <td>Matthew Perry</td>\n",
       "      <td>Hunter Parrish</td>\n",
       "      <td>Thomas Lennon</td>\n",
       "      <td>Comedy</td>\n",
       "      <td>20000000</td>\n",
       "      <td>139000000</td>\n",
       "      <td>44.44</td>\n",
       "      <td>25.00</td>\n",
       "      <td>119000000</td>\n",
       "      <td>0</td>\n",
       "      <td>0.0</td>\n",
       "      <td>2009</td>\n",
       "      <td>6.4</td>\n",
       "    </tr>\n",
       "    <tr>\n",
       "      <th>3</th>\n",
       "      <td>1982</td>\n",
       "      <td>Tommy Oliver</td>\n",
       "      <td>90</td>\n",
       "      <td>Bokeem Woodbine</td>\n",
       "      <td>Ruby Dee</td>\n",
       "      <td>Quinton Aaron</td>\n",
       "      <td>Drama</td>\n",
       "      <td>1000000</td>\n",
       "      <td>2000000</td>\n",
       "      <td>50.00</td>\n",
       "      <td>100.00</td>\n",
       "      <td>1000000</td>\n",
       "      <td>0</td>\n",
       "      <td>0.0</td>\n",
       "      <td>2013</td>\n",
       "      <td>7.1</td>\n",
       "    </tr>\n",
       "    <tr>\n",
       "      <th>4</th>\n",
       "      <td>2 Fast 2 Furious</td>\n",
       "      <td>John Singleton</td>\n",
       "      <td>107</td>\n",
       "      <td>Paul Walker</td>\n",
       "      <td>Cole Hauser</td>\n",
       "      <td>Mo Gallini</td>\n",
       "      <td>Action</td>\n",
       "      <td>76000000</td>\n",
       "      <td>236000000</td>\n",
       "      <td>75.00</td>\n",
       "      <td>42.85</td>\n",
       "      <td>160000000</td>\n",
       "      <td>0</td>\n",
       "      <td>0.0</td>\n",
       "      <td>2003</td>\n",
       "      <td>5.9</td>\n",
       "    </tr>\n",
       "  </tbody>\n",
       "</table>\n",
       "</div>"
      ],
      "text/plain": [
       "              Movie        Director  Running time          Actor 1  \\\n",
       "0          13 Hours     Michael Bay           144    Toby Stephens   \n",
       "1         16 Blocks  Richard Donner           102     Bruce Willis   \n",
       "2          17 Again     Burr Steers           102    Matthew Perry   \n",
       "3              1982    Tommy Oliver            90  Bokeem Woodbine   \n",
       "4  2 Fast 2 Furious  John Singleton           107      Paul Walker   \n",
       "\n",
       "            Actor 2          Actor 3   Genre    Budget  Box Office  \\\n",
       "0  James Badge Dale  David Costabile  Action  50000000    69400000   \n",
       "1       David Zayas       Sasha Roiz  Action  52000000    65000000   \n",
       "2    Hunter Parrish    Thomas Lennon  Comedy  20000000   139000000   \n",
       "3          Ruby Dee    Quinton Aaron   Drama   1000000     2000000   \n",
       "4       Cole Hauser       Mo Gallini  Action  76000000   236000000   \n",
       "\n",
       "   Actors Box Office %  Director Box Office %   Earnings  \\\n",
       "0                50.00                  69.23   19400000   \n",
       "1                33.33                  50.00   13000000   \n",
       "2                44.44                  25.00  119000000   \n",
       "3                50.00                 100.00    1000000   \n",
       "4                75.00                  42.85  160000000   \n",
       "\n",
       "   Oscar and Golden Globes nominations  Oscar and Golden Globes awards  \\\n",
       "0                                    0                             0.0   \n",
       "1                                    0                             0.0   \n",
       "2                                    0                             0.0   \n",
       "3                                    0                             0.0   \n",
       "4                                    0                             0.0   \n",
       "\n",
       "   Release year  IMDb score  \n",
       "0          2016         7.4  \n",
       "1          2006         6.6  \n",
       "2          2009         6.4  \n",
       "3          2013         7.1  \n",
       "4          2003         5.9  "
      ]
     },
     "execution_count": 101,
     "metadata": {},
     "output_type": "execute_result"
    }
   ],
   "source": [
    "df.head()"
   ]
  },
  {
   "cell_type": "code",
   "execution_count": 109,
   "id": "9cb508fe-582b-4326-812c-273c26acc8bd",
   "metadata": {},
   "outputs": [],
   "source": [
    "## Explore Budget Feature "
   ]
  },
  {
   "cell_type": "code",
   "execution_count": 123,
   "id": "062baee7-ac4f-4d37-bfb9-8024e156db2e",
   "metadata": {},
   "outputs": [
    {
     "data": {
      "text/plain": [
       "0     50000000\n",
       "1     52000000\n",
       "2     20000000\n",
       "3      1000000\n",
       "4     76000000\n",
       "5     61000000\n",
       "6    200000000\n",
       "7     35000000\n",
       "8     50000000\n",
       "9     30000000\n",
       "Name: Budget, dtype: int64"
      ]
     },
     "execution_count": 123,
     "metadata": {},
     "output_type": "execute_result"
    }
   ],
   "source": [
    "df['Budget'].head(10)"
   ]
  },
  {
   "cell_type": "code",
   "execution_count": 111,
   "id": "296cb6bc-c8d3-4989-a344-e306edbce263",
   "metadata": {},
   "outputs": [
    {
     "name": "stderr",
     "output_type": "stream",
     "text": [
      "C:\\Users\\Paras Shirish Vaidya\\AppData\\Local\\Temp\\ipykernel_1348\\709802373.py:1: UserWarning: \n",
      "\n",
      "`distplot` is a deprecated function and will be removed in seaborn v0.14.0.\n",
      "\n",
      "Please adapt your code to use either `displot` (a figure-level function with\n",
      "similar flexibility) or `histplot` (an axes-level function for histograms).\n",
      "\n",
      "For a guide to updating your code to use the new functions, please see\n",
      "https://gist.github.com/mwaskom/de44147ed2974457ad6372750bbe5751\n",
      "\n",
      "  sns.distplot(df['Budget'])\n"
     ]
    },
    {
     "data": {
      "text/plain": [
       "<Axes: xlabel='Budget', ylabel='Density'>"
      ]
     },
     "execution_count": 111,
     "metadata": {},
     "output_type": "execute_result"
    },
    {
     "data": {
      "image/png": "[encoded data removed]",
      "text/plain": [
       "<Figure size 640x480 with 1 Axes>"
      ]
     },
     "metadata": {},
     "output_type": "display_data"
    }
   ],
   "source": [
    "sns.distplot(df['Budget'])"
   ]
  },
  {
   "cell_type": "code",
   "execution_count": null,
   "id": "4bb0724d-5567-4657-b741-2af20bd635ae",
   "metadata": {},
   "outputs": [],
   "source": []
  },
  {
   "cell_type": "code",
   "execution_count": 113,
   "id": "86a26c4d-c34a-4b80-b3f0-3cf7c6e96d03",
   "metadata": {},
   "outputs": [
    {
     "name": "stderr",
     "output_type": "stream",
     "text": [
      "C:\\Users\\Paras Shirish Vaidya\\AppData\\Local\\Temp\\ipykernel_1348\\926680752.py:1: UserWarning: \n",
      "\n",
      "`distplot` is a deprecated function and will be removed in seaborn v0.14.0.\n",
      "\n",
      "Please adapt your code to use either `displot` (a figure-level function with\n",
      "similar flexibility) or `histplot` (an axes-level function for histograms).\n",
      "\n",
      "For a guide to updating your code to use the new functions, please see\n",
      "https://gist.github.com/mwaskom/de44147ed2974457ad6372750bbe5751\n",
      "\n",
      "  sns.distplot(np.log(df['Budget']))\n"
     ]
    },
    {
     "data": {
      "text/plain": [
       "<Axes: xlabel='Budget', ylabel='Density'>"
      ]
     },
     "execution_count": 113,
     "metadata": {},
     "output_type": "execute_result"
    },
    {
     "data": {
      "image/png": "[encoded data removed]",
      "text/plain": [
       "<Figure size 640x480 with 1 Axes>"
      ]
     },
     "metadata": {},
     "output_type": "display_data"
    }
   ],
   "source": [
    "sns.distplot(np.log(df['Budget']))"
   ]
  },
  {
   "cell_type": "code",
   "execution_count": 119,
   "id": "d26a7806-5c59-45f5-a883-ee683748aa45",
   "metadata": {},
   "outputs": [
    {
     "data": {
      "text/plain": [
       "0       17.727534\n",
       "1       17.766754\n",
       "2       16.811243\n",
       "3       13.815511\n",
       "4       18.146244\n",
       "          ...    \n",
       "3969    15.761421\n",
       "3970    16.993564\n",
       "3971    15.424948\n",
       "3972    16.976757\n",
       "3973    16.588099\n",
       "Name: Budget, Length: 3907, dtype: float64"
      ]
     },
     "execution_count": 119,
     "metadata": {},
     "output_type": "execute_result"
    }
   ],
   "source": [
    "np.log(df['Budget'])"
   ]
  },
  {
   "cell_type": "code",
   "execution_count": 125,
   "id": "a556b639-4341-40ca-a7c3-c8895576e18f",
   "metadata": {},
   "outputs": [
    {
     "data": {
      "text/plain": [
       "<Axes: ylabel='Budget'>"
      ]
     },
     "execution_count": 125,
     "metadata": {},
     "output_type": "execute_result"
    },
    {
     "data": {
      "image/png": "[encoded data removed]",
      "text/plain": [
       "<Figure size 640x480 with 1 Axes>"
      ]
     },
     "metadata": {},
     "output_type": "display_data"
    }
   ],
   "source": [
    "sns.boxplot(data=df['Budget'])"
   ]
  },
  {
   "cell_type": "code",
   "execution_count": 131,
   "id": "5b0a2525-7f31-455b-bee7-180cac415b12",
   "metadata": {},
   "outputs": [
    {
     "data": {
      "text/plain": [
       "count    3.907000e+03\n",
       "mean     3.618050e+07\n",
       "std      4.185346e+07\n",
       "min      1.100000e+03\n",
       "25%      8.700000e+06\n",
       "50%      2.200000e+07\n",
       "75%      4.850000e+07\n",
       "max      3.900000e+08\n",
       "Name: Budget, dtype: float64"
      ]
     },
     "execution_count": 131,
     "metadata": {},
     "output_type": "execute_result"
    }
   ],
   "source": [
    "df['Budget'].describe()"
   ]
  },
  {
   "cell_type": "code",
   "execution_count": 135,
   "id": "b470cc5d-10ef-48aa-8ae9-41bbca511f9d",
   "metadata": {},
   "outputs": [],
   "source": [
    "## the Budget feature is positively skewed we use log fuinction to ceate a gaussian distribution out of the feature "
   ]
  },
  {
   "cell_type": "code",
   "execution_count": 137,
   "id": "bbd778e7-f4be-4231-8b93-903ff926ca59",
   "metadata": {},
   "outputs": [],
   "source": [
    "df['Budget']=np.log(df['Budget'])"
   ]
  },
  {
   "cell_type": "code",
   "execution_count": 139,
   "id": "8a9b64df-aa9d-41dc-baf9-4b594e099a7a",
   "metadata": {},
   "outputs": [
    {
     "data": {
      "text/html": [
       "<div>\n",
       "<style scoped>\n",
       "    .dataframe tbody tr th:only-of-type {\n",
       "        vertical-align: middle;\n",
       "    }\n",
       "\n",
       "    .dataframe tbody tr th {\n",
       "        vertical-align: top;\n",
       "    }\n",
       "\n",
       "    .dataframe thead th {\n",
       "        text-align: right;\n",
       "    }\n",
       "</style>\n",
       "<table border=\"1\" class=\"dataframe\">\n",
       "  <thead>\n",
       "    <tr style=\"text-align: right;\">\n",
       "      <th></th>\n",
       "      <th>Movie</th>\n",
       "      <th>Director</th>\n",
       "      <th>Running time</th>\n",
       "      <th>Actor 1</th>\n",
       "      <th>Actor 2</th>\n",
       "      <th>Actor 3</th>\n",
       "      <th>Genre</th>\n",
       "      <th>Budget</th>\n",
       "      <th>Box Office</th>\n",
       "      <th>Actors Box Office %</th>\n",
       "      <th>Director Box Office %</th>\n",
       "      <th>Earnings</th>\n",
       "      <th>Oscar and Golden Globes nominations</th>\n",
       "      <th>Oscar and Golden Globes awards</th>\n",
       "      <th>Release year</th>\n",
       "      <th>IMDb score</th>\n",
       "    </tr>\n",
       "  </thead>\n",
       "  <tbody>\n",
       "    <tr>\n",
       "      <th>0</th>\n",
       "      <td>13 Hours</td>\n",
       "      <td>Michael Bay</td>\n",
       "      <td>144</td>\n",
       "      <td>Toby Stephens</td>\n",
       "      <td>James Badge Dale</td>\n",
       "      <td>David Costabile</td>\n",
       "      <td>Action</td>\n",
       "      <td>17.727534</td>\n",
       "      <td>69400000</td>\n",
       "      <td>50.00</td>\n",
       "      <td>69.23</td>\n",
       "      <td>19400000</td>\n",
       "      <td>0</td>\n",
       "      <td>0.0</td>\n",
       "      <td>2016</td>\n",
       "      <td>7.4</td>\n",
       "    </tr>\n",
       "    <tr>\n",
       "      <th>1</th>\n",
       "      <td>16 Blocks</td>\n",
       "      <td>Richard Donner</td>\n",
       "      <td>102</td>\n",
       "      <td>Bruce Willis</td>\n",
       "      <td>David Zayas</td>\n",
       "      <td>Sasha Roiz</td>\n",
       "      <td>Action</td>\n",
       "      <td>17.766754</td>\n",
       "      <td>65000000</td>\n",
       "      <td>33.33</td>\n",
       "      <td>50.00</td>\n",
       "      <td>13000000</td>\n",
       "      <td>0</td>\n",
       "      <td>0.0</td>\n",
       "      <td>2006</td>\n",
       "      <td>6.6</td>\n",
       "    </tr>\n",
       "    <tr>\n",
       "      <th>2</th>\n",
       "      <td>17 Again</td>\n",
       "      <td>Burr Steers</td>\n",
       "      <td>102</td>\n",
       "      <td>Matthew Perry</td>\n",
       "      <td>Hunter Parrish</td>\n",
       "      <td>Thomas Lennon</td>\n",
       "      <td>Comedy</td>\n",
       "      <td>16.811243</td>\n",
       "      <td>139000000</td>\n",
       "      <td>44.44</td>\n",
       "      <td>25.00</td>\n",
       "      <td>119000000</td>\n",
       "      <td>0</td>\n",
       "      <td>0.0</td>\n",
       "      <td>2009</td>\n",
       "      <td>6.4</td>\n",
       "    </tr>\n",
       "    <tr>\n",
       "      <th>3</th>\n",
       "      <td>1982</td>\n",
       "      <td>Tommy Oliver</td>\n",
       "      <td>90</td>\n",
       "      <td>Bokeem Woodbine</td>\n",
       "      <td>Ruby Dee</td>\n",
       "      <td>Quinton Aaron</td>\n",
       "      <td>Drama</td>\n",
       "      <td>13.815511</td>\n",
       "      <td>2000000</td>\n",
       "      <td>50.00</td>\n",
       "      <td>100.00</td>\n",
       "      <td>1000000</td>\n",
       "      <td>0</td>\n",
       "      <td>0.0</td>\n",
       "      <td>2013</td>\n",
       "      <td>7.1</td>\n",
       "    </tr>\n",
       "    <tr>\n",
       "      <th>4</th>\n",
       "      <td>2 Fast 2 Furious</td>\n",
       "      <td>John Singleton</td>\n",
       "      <td>107</td>\n",
       "      <td>Paul Walker</td>\n",
       "      <td>Cole Hauser</td>\n",
       "      <td>Mo Gallini</td>\n",
       "      <td>Action</td>\n",
       "      <td>18.146244</td>\n",
       "      <td>236000000</td>\n",
       "      <td>75.00</td>\n",
       "      <td>42.85</td>\n",
       "      <td>160000000</td>\n",
       "      <td>0</td>\n",
       "      <td>0.0</td>\n",
       "      <td>2003</td>\n",
       "      <td>5.9</td>\n",
       "    </tr>\n",
       "  </tbody>\n",
       "</table>\n",
       "</div>"
      ],
      "text/plain": [
       "              Movie        Director  Running time          Actor 1  \\\n",
       "0          13 Hours     Michael Bay           144    Toby Stephens   \n",
       "1         16 Blocks  Richard Donner           102     Bruce Willis   \n",
       "2          17 Again     Burr Steers           102    Matthew Perry   \n",
       "3              1982    Tommy Oliver            90  Bokeem Woodbine   \n",
       "4  2 Fast 2 Furious  John Singleton           107      Paul Walker   \n",
       "\n",
       "            Actor 2          Actor 3   Genre     Budget  Box Office  \\\n",
       "0  James Badge Dale  David Costabile  Action  17.727534    69400000   \n",
       "1       David Zayas       Sasha Roiz  Action  17.766754    65000000   \n",
       "2    Hunter Parrish    Thomas Lennon  Comedy  16.811243   139000000   \n",
       "3          Ruby Dee    Quinton Aaron   Drama  13.815511     2000000   \n",
       "4       Cole Hauser       Mo Gallini  Action  18.146244   236000000   \n",
       "\n",
       "   Actors Box Office %  Director Box Office %   Earnings  \\\n",
       "0                50.00                  69.23   19400000   \n",
       "1                33.33                  50.00   13000000   \n",
       "2                44.44                  25.00  119000000   \n",
       "3                50.00                 100.00    1000000   \n",
       "4                75.00                  42.85  160000000   \n",
       "\n",
       "   Oscar and Golden Globes nominations  Oscar and Golden Globes awards  \\\n",
       "0                                    0                             0.0   \n",
       "1                                    0                             0.0   \n",
       "2                                    0                             0.0   \n",
       "3                                    0                             0.0   \n",
       "4                                    0                             0.0   \n",
       "\n",
       "   Release year  IMDb score  \n",
       "0          2016         7.4  \n",
       "1          2006         6.6  \n",
       "2          2009         6.4  \n",
       "3          2013         7.1  \n",
       "4          2003         5.9  "
      ]
     },
     "execution_count": 139,
     "metadata": {},
     "output_type": "execute_result"
    }
   ],
   "source": [
    "df.head()"
   ]
  },
  {
   "cell_type": "code",
   "execution_count": 141,
   "id": "6f8aeaa5-2707-453b-960b-8b036213822c",
   "metadata": {},
   "outputs": [
    {
     "name": "stderr",
     "output_type": "stream",
     "text": [
      "C:\\Users\\Paras Shirish Vaidya\\AppData\\Local\\Temp\\ipykernel_1348\\766341415.py:1: UserWarning: \n",
      "\n",
      "`distplot` is a deprecated function and will be removed in seaborn v0.14.0.\n",
      "\n",
      "Please adapt your code to use either `displot` (a figure-level function with\n",
      "similar flexibility) or `histplot` (an axes-level function for histograms).\n",
      "\n",
      "For a guide to updating your code to use the new functions, please see\n",
      "https://gist.github.com/mwaskom/de44147ed2974457ad6372750bbe5751\n",
      "\n",
      "  sns.distplot(df['Box Office'])\n"
     ]
    },
    {
     "data": {
      "text/plain": [
       "<Axes: xlabel='Box Office', ylabel='Density'>"
      ]
     },
     "execution_count": 141,
     "metadata": {},
     "output_type": "execute_result"
    },
    {
     "data": {
      "image/png": "[encoded data removed]",
      "text/plain": [
       "<Figure size 640x480 with 1 Axes>"
      ]
     },
     "metadata": {},
     "output_type": "display_data"
    }
   ],
   "source": [
    "sns.distplot(df['Box Office'])"
   ]
  },
  {
   "cell_type": "code",
   "execution_count": 143,
   "id": "688e5d33-908b-451b-9cd6-ed91c36548ff",
   "metadata": {},
   "outputs": [
    {
     "name": "stderr",
     "output_type": "stream",
     "text": [
      "C:\\Users\\Paras Shirish Vaidya\\AppData\\Local\\Temp\\ipykernel_1348\\806288346.py:1: UserWarning: \n",
      "\n",
      "`distplot` is a deprecated function and will be removed in seaborn v0.14.0.\n",
      "\n",
      "Please adapt your code to use either `displot` (a figure-level function with\n",
      "similar flexibility) or `histplot` (an axes-level function for histograms).\n",
      "\n",
      "For a guide to updating your code to use the new functions, please see\n",
      "https://gist.github.com/mwaskom/de44147ed2974457ad6372750bbe5751\n",
      "\n",
      "  sns.distplot(np.log(df['Box Office']))\n"
     ]
    },
    {
     "data": {
      "text/plain": [
       "<Axes: xlabel='Box Office', ylabel='Density'>"
      ]
     },
     "execution_count": 143,
     "metadata": {},
     "output_type": "execute_result"
    },
    {
     "data": {
      "image/png": "[encoded data removed]",
      "text/plain": [
       "<Figure size 640x480 with 1 Axes>"
      ]
     },
     "metadata": {},
     "output_type": "display_data"
    }
   ],
   "source": [
    "sns.distplot(np.log(df['Box Office']))"
   ]
  },
  {
   "cell_type": "code",
   "execution_count": null,
   "id": "e86d3163-b4f4-461d-9905-71849ce65fed",
   "metadata": {},
   "outputs": [],
   "source": []
  },
  {
   "cell_type": "code",
   "execution_count": null,
   "id": "dd81d691-54e2-43c3-b813-610016273f39",
   "metadata": {},
   "outputs": [],
   "source": []
  },
  {
   "cell_type": "code",
   "execution_count": null,
   "id": "776c77f4-ffb2-45e6-8c03-ecfb6f528050",
   "metadata": {},
   "outputs": [],
   "source": []
  },
  {
   "cell_type": "code",
   "execution_count": null,
   "id": "d5be5c77-9795-4feb-b78f-63e3fda7c90a",
   "metadata": {},
   "outputs": [],
   "source": []
  },
  {
   "cell_type": "code",
   "execution_count": null,
   "id": "10c18e67-c6dd-4d11-9a19-f29bfb2af697",
   "metadata": {},
   "outputs": [],
   "source": []
  },
  {
   "cell_type": "code",
   "execution_count": null,
   "id": "e1c991f8-ec9f-4ef6-87ba-062474aaceb2",
   "metadata": {},
   "outputs": [],
   "source": []
  },
  {
   "cell_type": "code",
   "execution_count": null,
   "id": "aed1383f-dfe3-4ab0-89ca-a1ebb6de1cd8",
   "metadata": {},
   "outputs": [],
   "source": []
  },
  {
   "cell_type": "code",
   "execution_count": null,
   "id": "cafdd13a-5c42-412a-b95c-4c01a7c1522c",
   "metadata": {},
   "outputs": [],
   "source": []
  },
  {
   "cell_type": "code",
   "execution_count": null,
   "id": "ac52dcd7-2aab-4f46-87d1-5ceb544bf5b6",
   "metadata": {},
   "outputs": [],
   "source": []
  },
  {
   "cell_type": "code",
   "execution_count": null,
   "id": "f25760b8-1391-4fe6-954d-c83dab9f1567",
   "metadata": {},
   "outputs": [],
   "source": []
  },
  {
   "cell_type": "code",
   "execution_count": null,
   "id": "87084379-1ed1-4c96-94f3-feb9834790fe",
   "metadata": {},
   "outputs": [],
   "source": []
  },
  {
   "cell_type": "code",
   "execution_count": null,
   "id": "d463cebd-cd58-4ee3-a9e6-bdf55e871416",
   "metadata": {},
   "outputs": [],
   "source": []
  },
  {
   "cell_type": "code",
   "execution_count": null,
   "id": "3c381274-ed41-4e8a-90fa-97e4314350e9",
   "metadata": {},
   "outputs": [],
   "source": []
  },
  {
   "cell_type": "code",
   "execution_count": null,
   "id": "22f32e3f-b63f-47a3-8f09-de1226210ca9",
   "metadata": {},
   "outputs": [],
   "source": []
  },
  {
   "cell_type": "code",
   "execution_count": null,
   "id": "e3548588-94d6-4b69-9848-eb8fd981b07f",
   "metadata": {},
   "outputs": [],
   "source": []
  },
  {
   "cell_type": "code",
   "execution_count": null,
   "id": "aa55b107-74cc-48e1-b9f8-106e348ada44",
   "metadata": {},
   "outputs": [],
   "source": []
  },
  {
   "cell_type": "code",
   "execution_count": null,
   "id": "e6c744b3-f1ce-48eb-a9e9-76f5963ce9bb",
   "metadata": {},
   "outputs": [],
   "source": []
  },
  {
   "cell_type": "code",
   "execution_count": null,
   "id": "5fac6673-d6e3-435f-a530-bfea0f96b9ce",
   "metadata": {},
   "outputs": [],
   "source": []
  },
  {
   "cell_type": "code",
   "execution_count": null,
   "id": "45164abd-b02d-4467-a394-7d2f7383b883",
   "metadata": {},
   "outputs": [],
   "source": []
  }
 ],
 "metadata": {
  "kernelspec": {
   "display_name": "Python 3 (ipykernel)",
   "language": "python",
   "name": "python3"
  },
  "language_info": {
   "codemirror_mode": {
    "name": "ipython",
    "version": 3
   },
   "file_extension": ".py",
   "mimetype": "text/x-python",
   "name": "python",
   "nbconvert_exporter": "python",
   "pygments_lexer": "ipython3",
   "version": "3.12.4"
  }
 },
 "nbformat": 4,
 "nbformat_minor": 5
}
